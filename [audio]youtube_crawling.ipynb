{
  "nbformat": 4,
  "nbformat_minor": 0,
  "metadata": {
    "colab": {
      "name": "[audio]youtube_crawling.ipynb",
      "provenance": []
    },
    "kernelspec": {
      "name": "python3",
      "display_name": "Python 3"
    },
    "language_info": {
      "name": "python"
    }
  },
  "cells": [
    {
      "cell_type": "markdown",
      "metadata": {
        "id": "cross-velvet"
      },
      "source": [
        "## Setting Libraries"
      ]
    },
    {
      "cell_type": "code",
      "metadata": {
        "colab": {
          "base_uri": "https://localhost:8080/"
        },
        "id": "NnK-8uYgEmXU",
        "outputId": "14137fe0-da1b-47f9-f5cc-9483650342ea"
      },
      "source": [
        "!python --version"
      ],
      "execution_count": null,
      "outputs": [
        {
          "output_type": "stream",
          "name": "stdout",
          "text": [
            "Python 3.7.12\n"
          ]
        }
      ]
    },
    {
      "cell_type": "code",
      "metadata": {
        "id": "least-commercial",
        "colab": {
          "base_uri": "https://localhost:8080/"
        },
        "outputId": "f0f377ac-7cb2-4403-920d-a271a5e1bc9b"
      },
      "source": [
        "!pip install pydub\n",
        "!pip install pytube\n",
        "#!pip install subprocess"
      ],
      "execution_count": null,
      "outputs": [
        {
          "output_type": "stream",
          "name": "stdout",
          "text": [
            "Collecting pydub\n",
            "  Downloading pydub-0.25.1-py2.py3-none-any.whl (32 kB)\n",
            "Installing collected packages: pydub\n",
            "Successfully installed pydub-0.25.1\n",
            "Collecting pytube\n",
            "  Downloading pytube-11.0.1-py3-none-any.whl (56 kB)\n",
            "\u001b[K     |████████████████████████████████| 56 kB 2.9 MB/s \n",
            "\u001b[?25hInstalling collected packages: pytube\n",
            "Successfully installed pytube-11.0.1\n"
          ]
        }
      ]
    },
    {
      "cell_type": "code",
      "metadata": {
        "id": "industrial-policy"
      },
      "source": [
        "import os\n",
        "import json\n",
        "import subprocess\n",
        "from pytube import YouTube # 유튜브 크롤링 모듈\n",
        "from pytube.exceptions import VideoUnavailable #유효하지 않을떄\n",
        "from pydub import AudioSegment # 오디오파일 받아오는 모듈\n",
        "from pydub.utils import make_chunks\n",
        "from IPython import display as ipd"
      ],
      "execution_count": null,
      "outputs": []
    },
    {
      "cell_type": "code",
      "metadata": {
        "colab": {
          "base_uri": "https://localhost:8080/"
        },
        "id": "Q2JPaLI9HiSs",
        "outputId": "fd6712ca-cc58-4d85-bfbf-d1b323af7376"
      },
      "source": [
        "from google.colab import drive\n",
        "drive.mount('/content/MyDrive')"
      ],
      "execution_count": null,
      "outputs": [
        {
          "output_type": "stream",
          "name": "stdout",
          "text": [
            "Mounted at /content/MyDrive\n"
          ]
        }
      ]
    },
    {
      "cell_type": "code",
      "metadata": {
        "id": "opening-marathon"
      },
      "source": [
        "BASE_DIR = '/content/MyDrive/MyDrive/Colab Notebooks/[해커톤]DeepASMR/'\n",
        "MP4_SOURCE = BASE_DIR + '[code]yt_output'\n",
        "WAV_SOURCE = BASE_DIR + '[code]yt_wav'\n",
        "\n",
        "class YoutubeDownloader():\n",
        "    def __init__(self, folder):\n",
        "        self.folder = folder\n",
        "\n",
        "    def down_files(self, urls):\n",
        "        if type(urls) == list and len(urls):\n",
        "            for idx, url in enumerate(urls):\n",
        "                try:\n",
        "                    yt = YouTube(url) #yt 인스턴스 생성\n",
        "                except VideoUnavailable:\n",
        "                    print(f'{idx + 1}번째 {url}는 사용할 수 없습니다.') # url이 사용불가면 에러나니까\n",
        "                else:\n",
        "                    audio = yt.streams.filter(only_audio=True).first() #audio에 음원파일이 들어감\n",
        "                    print(f'파일명: {yt.title}\\n') \n",
        "                    print(f'다운로드 시작')\n",
        "                    try:\n",
        "                        filename = input(\"원하는 파일명.mp4를 입력하세요. \")\n",
        "                        audio.download(output_path=self.folder, filename=filename)\n",
        "                        print(f'다운로드 완료 {(idx + 1)} / {len(urls)}')\n",
        "                        print(\"-\" * 100)\n",
        "                    except Exception:\n",
        "                        print(f\"다운로드 중 오류가 발생하였습니다.\")\n",
        "                        continue\n",
        "            print(\"파일 다운로드 종료\")\n",
        "            return\n",
        "        \n",
        "        else:\n",
        "            print('URL을 올바르게 입력해주세요')\n",
        "            return"
      ],
      "execution_count": null,
      "outputs": []
    },
    {
      "cell_type": "code",
      "metadata": {
        "id": "considerable-nancy",
        "colab": {
          "base_uri": "https://localhost:8080/"
        },
        "outputId": "1620ddeb-5443-4f5c-8ad6-742dfbd51c82"
      },
      "source": [
        "# 가져올 Youtube 영상 url을 urls 배열에 저장  \n",
        "urls = ['https://youtu.be/rMQTPyo_RbQ']\n",
        "len(urls)"
      ],
      "execution_count": null,
      "outputs": [
        {
          "output_type": "execute_result",
          "data": {
            "text/plain": [
              "1"
            ]
          },
          "metadata": {},
          "execution_count": 6
        }
      ]
    },
    {
      "cell_type": "code",
      "metadata": {
        "id": "fuzzy-criticism"
      },
      "source": [
        "# YoutubeDownloader 객체 생성\n",
        "yt = YoutubeDownloader(MP4_SOURCE)"
      ],
      "execution_count": null,
      "outputs": []
    },
    {
      "cell_type": "code",
      "metadata": {
        "id": "aquatic-villa",
        "colab": {
          "base_uri": "https://localhost:8080/"
        },
        "outputId": "8bcb0cdb-e0dc-44b6-a462-5db5c559c20c"
      },
      "source": [
        "# urls 배열을 받아 다운로드 진행\n",
        "yt.down_files(urls)"
      ],
      "execution_count": null,
      "outputs": [
        {
          "output_type": "stream",
          "name": "stdout",
          "text": [
            "파일명: ASMR A Standard of Ear Cleaning 귀청소의 정석\n",
            "\n",
            "다운로드 시작\n",
            "원하는 파일명.mp4를 입력하세요. asmr_earclean_1.mp4\n",
            "다운로드 완료 1 / 1\n",
            "----------------------------------------------------------------------------------------------------\n",
            "파일 다운로드 종료\n"
          ]
        }
      ]
    },
    {
      "cell_type": "code",
      "metadata": {
        "id": "indirect-volume"
      },
      "source": [
        "class AudioHandler():\n",
        "    def __init__(self, filepath):\n",
        "        self.file_path = filepath # 오디오 파일 전체 경로\n",
        "        self.file_name = os.path.splitext(self.file_path)[0] # 파일경로\n",
        "        self.file_format = os.path.splitext(self.file_path)[1] # 확장자\n",
        "        self.__audio = AudioSegment.from_file(self.file_path) # 오디오 파일 로드\n",
        "    \n",
        "    def get_duration(self):\n",
        "        \"\"\" 원본 오디오 파일의 재생시간\"\"\"\n",
        "        return self.__audio.duration_seconds\n",
        "    \n",
        "    def file_split(self, start_min, start_sec, end_min, end_sec, fname):\n",
        "        \"\"\" 원본 오디오 파일에서 원하는 구간 Split 해서 wav 파일로 저장\"\"\"\n",
        "        t1 = start_min * 60 * 1000 + start_sec * 1000\n",
        "        t2 = end_min * 60 * 1000 + end_sec * 1000\n",
        "        split_audio = self.__audio[t1:t2]\n",
        "        save_path = os.path.join(WAV_SOURCE, fname)\n",
        "        split_audio.export(save_path + '.wav', format='wav')\n",
        "            \n",
        "    def convert_to_wav(self):\n",
        "        \"\"\"mp4 파일을 wav로 포맷변경\"\"\"\n",
        "        try:\n",
        "            filename = os.path.basename(self.file_name)\n",
        "            save_path = os.path.join(WAV_SOURCE, filename)\n",
        "            self.__audio.export(save_path + \".wav\", format=\"wav\")\n",
        "        except:\n",
        "            print(\"파일변환에러\")\n",
        "\n",
        "    def chunk_wav_data(self, chunk_length):\n",
        "        \"\"\"chunk_length 단위로 원본 오디오 파일을 temp 폴더에 저장\"\"\"\n",
        "        folder_path = os.path.join(BASE_DIR, 'temp')\n",
        "        if os.path.exists(BASE_DIR + '/temp'): # temp 폴더가 이미 존재한다면 폴더 삭제\n",
        "            os.system(\"rm -rf {}\".format(folder_path))\n",
        "\n",
        "        os.mkdir(folder_path) # temp 폴더 생성\n",
        "        chunk_length_ms = 1000 * chunk_length # pydub calculates in millisec\n",
        "        chunks = make_chunks(self.__audio, chunk_length_ms) #Make chunks of one sec      \n",
        "\n",
        "        for i, chunk in enumerate(chunks):\n",
        "            chunk_name = \"{}.wav\".format(i)\n",
        "            print(\"exporting \", chunk_name)\n",
        "            chunk.export(os.path.join(folder_path, chunk_name), format=\"wav\")"
      ],
      "execution_count": null,
      "outputs": []
    },
    {
      "cell_type": "code",
      "metadata": {
        "id": "blank-protein"
      },
      "source": [
        "# AudioHandler 객체 생성\n",
        "audio = AudioHandler(MP4_SOURCE + '/asmr_earclean_1.mp4')"
      ],
      "execution_count": null,
      "outputs": []
    },
    {
      "cell_type": "code",
      "metadata": {
        "colab": {
          "base_uri": "https://localhost:8080/",
          "height": 35
        },
        "id": "K6XBxui32XKX",
        "outputId": "be900194-c6db-4988-b3a2-e46837c1db6c"
      },
      "source": [
        "audio.file_path"
      ],
      "execution_count": null,
      "outputs": [
        {
          "output_type": "execute_result",
          "data": {
            "application/vnd.google.colaboratory.intrinsic+json": {
              "type": "string"
            },
            "text/plain": [
              "'/content/MyDrive/MyDrive/Colab Notebooks/[해커톤]DeepASMR/[code]yt_output/asmr_earclean_1.mp4'"
            ]
          },
          "metadata": {},
          "execution_count": 15
        }
      ]
    },
    {
      "cell_type": "code",
      "metadata": {
        "colab": {
          "base_uri": "https://localhost:8080/",
          "height": 35
        },
        "id": "SchnCRMa2Vi4",
        "outputId": "497ba5af-7caf-42a3-8ad4-9f4b79a732f1"
      },
      "source": [
        "audio.file_name"
      ],
      "execution_count": null,
      "outputs": [
        {
          "output_type": "execute_result",
          "data": {
            "application/vnd.google.colaboratory.intrinsic+json": {
              "type": "string"
            },
            "text/plain": [
              "'/content/MyDrive/MyDrive/Colab Notebooks/[해커톤]DeepASMR/[code]yt_output/asmr_earclean_1'"
            ]
          },
          "metadata": {},
          "execution_count": 16
        }
      ]
    },
    {
      "cell_type": "code",
      "metadata": {
        "colab": {
          "base_uri": "https://localhost:8080/",
          "height": 35
        },
        "id": "o5leYoNr5-5h",
        "outputId": "6b7bd722-4f24-433c-d21a-05ba9f76de8a"
      },
      "source": [
        "audio.file_format"
      ],
      "execution_count": null,
      "outputs": [
        {
          "output_type": "execute_result",
          "data": {
            "application/vnd.google.colaboratory.intrinsic+json": {
              "type": "string"
            },
            "text/plain": [
              "'.mp4'"
            ]
          },
          "metadata": {},
          "execution_count": 17
        }
      ]
    },
    {
      "cell_type": "code",
      "metadata": {
        "colab": {
          "base_uri": "https://localhost:8080/"
        },
        "id": "KF3AL0k6I8Ap",
        "outputId": "18156905-2d42-4254-d0b2-0bc2863615d9"
      },
      "source": [
        "# MP4 -> WAV 변환\n",
        "audio.convert_to_wav()\n",
        "os.listdir(WAV_SOURCE)"
      ],
      "execution_count": null,
      "outputs": [
        {
          "output_type": "execute_result",
          "data": {
            "text/plain": [
              "['asmr_mix_20210608.wav',\n",
              " 'asmr_talk_whispering_191004.wav',\n",
              " 'asmr_talk_wordrepeat_200721.wav',\n",
              " '.ipynb_checkpoints',\n",
              " 'asmr_soft_mouthandbrush_211012.wav',\n",
              " 'asmr_soft_tongue_210908.wav',\n",
              " 'asmr_talk_hairsalon_170926.wav',\n",
              " 'asmr_tap_earcleaning_210617.wav',\n",
              " 'asmr_tap_soap_210327.wav',\n",
              " 'asmr_tap_wood_210930.wav',\n",
              " 'asmr_1.wav',\n",
              " 'asmr_nature_fire_20211014.wav',\n",
              " 'asmr_earclean_1.wav']"
            ]
          },
          "metadata": {},
          "execution_count": 18
        }
      ]
    },
    {
      "cell_type": "code",
      "metadata": {
        "colab": {
          "base_uri": "https://localhost:8080/"
        },
        "id": "0W1NEJnT_HSb",
        "outputId": "655606ff-14fc-47be-90c2-004b61b9affb"
      },
      "source": [
        "# 원본 파일에서 0분 30초 ~ 1분 30초 구간을 현재 폴더에 'asmr_1.wav' 라는 파일명으로 저장\n",
        "audio.file_split(0, 30, 1, 30, 'asmr_earclean_split')\n",
        "os.listdir(WAV_SOURCE)"
      ],
      "execution_count": null,
      "outputs": [
        {
          "output_type": "execute_result",
          "data": {
            "text/plain": [
              "['asmr_mix_20210608.wav',\n",
              " 'asmr_talk_whispering_191004.wav',\n",
              " 'asmr_talk_wordrepeat_200721.wav',\n",
              " '.ipynb_checkpoints',\n",
              " 'asmr_soft_mouthandbrush_211012.wav',\n",
              " 'asmr_soft_tongue_210908.wav',\n",
              " 'asmr_talk_hairsalon_170926.wav',\n",
              " 'asmr_tap_earcleaning_210617.wav',\n",
              " 'asmr_tap_soap_210327.wav',\n",
              " 'asmr_tap_wood_210930.wav',\n",
              " 'asmr_1.wav',\n",
              " 'asmr_nature_fire_20211014.wav',\n",
              " 'asmr_earclean_1.wav',\n",
              " 'asmr_earclean_split.wav']"
            ]
          },
          "metadata": {},
          "execution_count": 19
        }
      ]
    },
    {
      "cell_type": "code",
      "metadata": {
        "id": "pw5sLmz8ARqZ",
        "colab": {
          "base_uri": "https://localhost:8080/",
          "height": 319
        },
        "outputId": "cd91e2f6-092f-46f2-b20a-eb9e459d14ca"
      },
      "source": [
        "# 30 초 단위로 audio chunk\n",
        "audio.chunk_wav_data(6)"
      ],
      "execution_count": null,
      "outputs": [
        {
          "output_type": "error",
          "ename": "FileExistsError",
          "evalue": "ignored",
          "traceback": [
            "\u001b[0;31m---------------------------------------------------------------------------\u001b[0m",
            "\u001b[0;31mFileExistsError\u001b[0m                           Traceback (most recent call last)",
            "\u001b[0;32m<ipython-input-20-8e0e00c98611>\u001b[0m in \u001b[0;36m<module>\u001b[0;34m()\u001b[0m\n\u001b[1;32m      1\u001b[0m \u001b[0;31m# 30 초 단위로 audio chunk\u001b[0m\u001b[0;34m\u001b[0m\u001b[0;34m\u001b[0m\u001b[0;34m\u001b[0m\u001b[0m\n\u001b[0;32m----> 2\u001b[0;31m \u001b[0maudio\u001b[0m\u001b[0;34m.\u001b[0m\u001b[0mchunk_wav_data\u001b[0m\u001b[0;34m(\u001b[0m\u001b[0;36m6\u001b[0m\u001b[0;34m)\u001b[0m\u001b[0;34m\u001b[0m\u001b[0;34m\u001b[0m\u001b[0m\n\u001b[0m",
            "\u001b[0;32m<ipython-input-12-ec05bcd7252f>\u001b[0m in \u001b[0;36mchunk_wav_data\u001b[0;34m(self, chunk_length)\u001b[0m\n\u001b[1;32m     33\u001b[0m             \u001b[0mos\u001b[0m\u001b[0;34m.\u001b[0m\u001b[0msystem\u001b[0m\u001b[0;34m(\u001b[0m\u001b[0;34m\"rm -rf {}\"\u001b[0m\u001b[0;34m.\u001b[0m\u001b[0mformat\u001b[0m\u001b[0;34m(\u001b[0m\u001b[0mfolder_path\u001b[0m\u001b[0;34m)\u001b[0m\u001b[0;34m)\u001b[0m\u001b[0;34m\u001b[0m\u001b[0;34m\u001b[0m\u001b[0m\n\u001b[1;32m     34\u001b[0m \u001b[0;34m\u001b[0m\u001b[0m\n\u001b[0;32m---> 35\u001b[0;31m         \u001b[0mos\u001b[0m\u001b[0;34m.\u001b[0m\u001b[0mmkdir\u001b[0m\u001b[0;34m(\u001b[0m\u001b[0mfolder_path\u001b[0m\u001b[0;34m)\u001b[0m \u001b[0;31m# temp 폴더 생성\u001b[0m\u001b[0;34m\u001b[0m\u001b[0;34m\u001b[0m\u001b[0m\n\u001b[0m\u001b[1;32m     36\u001b[0m         \u001b[0mchunk_length_ms\u001b[0m \u001b[0;34m=\u001b[0m \u001b[0;36m1000\u001b[0m \u001b[0;34m*\u001b[0m \u001b[0mchunk_length\u001b[0m \u001b[0;31m# pydub calculates in millisec\u001b[0m\u001b[0;34m\u001b[0m\u001b[0;34m\u001b[0m\u001b[0m\n\u001b[1;32m     37\u001b[0m         \u001b[0mchunks\u001b[0m \u001b[0;34m=\u001b[0m \u001b[0mmake_chunks\u001b[0m\u001b[0;34m(\u001b[0m\u001b[0mself\u001b[0m\u001b[0;34m.\u001b[0m\u001b[0m__audio\u001b[0m\u001b[0;34m,\u001b[0m \u001b[0mchunk_length_ms\u001b[0m\u001b[0;34m)\u001b[0m \u001b[0;31m#Make chunks of one sec\u001b[0m\u001b[0;34m\u001b[0m\u001b[0;34m\u001b[0m\u001b[0m\n",
            "\u001b[0;31mFileExistsError\u001b[0m: [Errno 17] File exists: '/content/MyDrive/MyDrive/Colab Notebooks/[해커톤]DeepASMR/temp'"
          ]
        }
      ]
    }
  ]
}
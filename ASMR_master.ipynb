{
  "nbformat": 4,
  "nbformat_minor": 5,
  "metadata": {
    "kernelspec": {
      "display_name": "Python 3",
      "language": "python",
      "name": "python3"
    },
    "language_info": {
      "codemirror_mode": {
        "name": "ipython",
        "version": 3
      },
      "file_extension": ".py",
      "mimetype": "text/x-python",
      "name": "python",
      "nbconvert_exporter": "python",
      "pygments_lexer": "ipython3",
      "version": "3.7.9"
    },
    "colab": {
      "name": "ASMR_master.ipynb",
      "provenance": [],
      "collapsed_sections": []
    },
    "accelerator": "GPU"
  },
  "cells": [
    {
      "cell_type": "markdown",
      "metadata": {
        "id": "cross-velvet"
      },
      "source": [
        "## Setting Libraries"
      ],
      "id": "cross-velvet"
    },
    {
      "cell_type": "code",
      "metadata": {
        "colab": {
          "base_uri": "https://localhost:8080/"
        },
        "id": "NnK-8uYgEmXU",
        "outputId": "df091a11-4964-4bc7-8d8b-1d6c844db959"
      },
      "source": [
        "!python --version"
      ],
      "id": "NnK-8uYgEmXU",
      "execution_count": null,
      "outputs": [
        {
          "output_type": "stream",
          "name": "stdout",
          "text": [
            "Python 3.7.12\n"
          ]
        }
      ]
    },
    {
      "cell_type": "code",
      "metadata": {
        "id": "least-commercial",
        "colab": {
          "base_uri": "https://localhost:8080/"
        },
        "outputId": "0c9661ce-57e7-49ca-db39-ba8683aec267"
      },
      "source": [
        "!pip install pydub\n",
        "!pip install pytube\n",
        "#!pip install subprocess"
      ],
      "id": "least-commercial",
      "execution_count": null,
      "outputs": [
        {
          "output_type": "stream",
          "name": "stdout",
          "text": [
            "Collecting pydub\n",
            "  Downloading pydub-0.25.1-py2.py3-none-any.whl (32 kB)\n",
            "Installing collected packages: pydub\n",
            "Successfully installed pydub-0.25.1\n",
            "Collecting pytube\n",
            "  Downloading pytube-11.0.1-py3-none-any.whl (56 kB)\n",
            "\u001b[K     |████████████████████████████████| 56 kB 2.6 MB/s \n",
            "\u001b[?25hInstalling collected packages: pytube\n",
            "Successfully installed pytube-11.0.1\n",
            "\u001b[31mERROR: Could not find a version that satisfies the requirement subprocess (from versions: none)\u001b[0m\n",
            "\u001b[31mERROR: No matching distribution found for subprocess\u001b[0m\n"
          ]
        }
      ]
    },
    {
      "cell_type": "code",
      "metadata": {
        "id": "industrial-policy"
      },
      "source": [
        "import os\n",
        "import json\n",
        "import subprocess\n",
        "from pytube import YouTube # 유튜브 크롤링 모듈\n",
        "from pytube.exceptions import VideoUnavailable #유효하지 않을떄\n",
        "from pydub import AudioSegment # 오디오파일 받아오는 모듈\n",
        "from pydub.utils import make_chunks\n",
        "from IPython import display as ipd"
      ],
      "id": "industrial-policy",
      "execution_count": null,
      "outputs": []
    },
    {
      "cell_type": "code",
      "metadata": {
        "colab": {
          "base_uri": "https://localhost:8080/"
        },
        "id": "Q2JPaLI9HiSs",
        "outputId": "85d4be5b-b03e-43ac-a89a-5ec07525b730"
      },
      "source": [
        "from google.colab import drive\n",
        "drive.mount('/content/MyDrive')"
      ],
      "id": "Q2JPaLI9HiSs",
      "execution_count": null,
      "outputs": [
        {
          "output_type": "stream",
          "name": "stdout",
          "text": [
            "Mounted at /content/MyDrive\n"
          ]
        }
      ]
    },
    {
      "cell_type": "code",
      "metadata": {
        "id": "opening-marathon"
      },
      "source": [
        "BASE_DIR = '/content/MyDrive/MyDrive/[해커톤]DeepASMR/'\n",
        "MP4_SOURCE = BASE_DIR + '[code]yt_output'\n",
        "WAV_SOURCE = BASE_DIR + '[code]yt_wav'\n",
        "\n",
        "class YoutubeDownloader():\n",
        "    def __init__(self, folder):\n",
        "        self.folder = folder\n",
        "\n",
        "    def down_files(self, urls):\n",
        "        if type(urls) == list and len(urls):\n",
        "            for idx, url in enumerate(urls):\n",
        "                try:\n",
        "                    yt = YouTube(url) #yt 인스턴스 생성\n",
        "                except VideoUnavailable:\n",
        "                    print(f'{idx + 1}번째 {url}는 사용할 수 없습니다.') # url이 사용불가면 에러나니까\n",
        "                else:\n",
        "                    audio = yt.streams.filter(only_audio=True).first() #audio에 음원파일이 들어감\n",
        "                    print(f'파일명: {yt.title}\\n') \n",
        "                    print(f'다운로드 시작')\n",
        "                    try:\n",
        "                        filename = input(\"원하는 파일명.mp4를 입력하세요. \")\n",
        "                        audio.download(output_path=self.folder, filename=filename)\n",
        "                        print(f'다운로드 완료 {(idx + 1)} / {len(urls)}')\n",
        "                        print(\"-\" * 100)\n",
        "                    except Exception:\n",
        "                        print(f\"다운로드 중 오류가 발생하였습니다.\")\n",
        "                        continue\n",
        "            print(\"파일 다운로드 종료\")\n",
        "            return\n",
        "        \n",
        "        else:\n",
        "            print('URL을 올바르게 입력해주세요')\n",
        "            return"
      ],
      "id": "opening-marathon",
      "execution_count": null,
      "outputs": []
    },
    {
      "cell_type": "code",
      "metadata": {
        "id": "considerable-nancy",
        "colab": {
          "base_uri": "https://localhost:8080/"
        },
        "outputId": "77a4d68a-8963-4660-c4a3-005bbb5976d3"
      },
      "source": [
        "# 가져올 Youtube 영상 url을 urls 배열에 저장  \n",
        "urls = ['https://www.youtube.com/watch?v=2TrgSww4Wf8']\n",
        "len(urls)"
      ],
      "id": "considerable-nancy",
      "execution_count": null,
      "outputs": [
        {
          "output_type": "execute_result",
          "data": {
            "text/plain": [
              "1"
            ]
          },
          "metadata": {},
          "execution_count": 5
        }
      ]
    },
    {
      "cell_type": "code",
      "metadata": {
        "id": "fuzzy-criticism"
      },
      "source": [
        "# YoutubeDownloader 객체 생성\n",
        "yt = YoutubeDownloader(MP4_SOURCE)"
      ],
      "id": "fuzzy-criticism",
      "execution_count": null,
      "outputs": []
    },
    {
      "cell_type": "code",
      "metadata": {
        "id": "aquatic-villa",
        "colab": {
          "base_uri": "https://localhost:8080/"
        },
        "outputId": "4d102906-570c-426e-c845-2a94e80dc0da"
      },
      "source": [
        "# urls 배열을 받아 다운로드 진행\n",
        "yt.down_files(urls)"
      ],
      "id": "aquatic-villa",
      "execution_count": null,
      "outputs": [
        {
          "output_type": "stream",
          "name": "stdout",
          "text": [
            "파일명: 🔥 공부할 때 듣는 장작 타는 소리 / Fireplace sound\n",
            "\n",
            "다운로드 시작\n",
            "원하는 파일명.mp4를 입력하세요. asmr_nature_fire_20211014\n",
            "다운로드 완료 1 / 1\n",
            "----------------------------------------------------------------------------------------------------\n",
            "파일 다운로드 종료\n"
          ]
        }
      ]
    },
    {
      "cell_type": "code",
      "metadata": {
        "id": "indirect-volume"
      },
      "source": [
        "class AudioHandler():\n",
        "    def __init__(self, filepath):\n",
        "        self.file_path = filepath # 오디오 파일 전체 경로\n",
        "        self.file_name = os.path.splitext(self.file_path)[0] # 파일경로\n",
        "        self.file_format = os.path.splitext(self.file_path)[1] # 확장자\n",
        "        self.__audio = AudioSegment.from_file(self.file_path) # 오디오 파일 로드\n",
        "    \n",
        "    def get_duration(self):\n",
        "        \"\"\" 원본 오디오 파일의 재생시간\"\"\"\n",
        "        return self.__audio.duration_seconds\n",
        "    \n",
        "    def file_split(self, start_min, start_sec, end_min, end_sec, fname):\n",
        "        \"\"\" 원본 오디오 파일에서 원하는 구간 Split 해서 wav 파일로 저장\"\"\"\n",
        "        t1 = start_min * 60 * 1000 + start_sec * 1000\n",
        "        t2 = end_min * 60 * 1000 + end_sec * 1000\n",
        "        split_audio = self.__audio[t1:t2]\n",
        "        save_path = os.path.join(WAV_SOURCE, fname)\n",
        "        split_audio.export(save_path + '.wav', format='wav')\n",
        "            \n",
        "    def convert_to_wav(self):\n",
        "        \"\"\"mp4 파일을 wav로 포맷변경\"\"\"\n",
        "        try:\n",
        "            filename = os.path.basename(self.file_name)\n",
        "            save_path = os.path.join(WAV_SOURCE, filename)\n",
        "            self.__audio.export(save_path + \".wav\", format=\"wav\")\n",
        "        except:\n",
        "            print(\"파일변환에러\")\n",
        "\n",
        "    def chunk_wav_data(self, chunk_length):\n",
        "        \"\"\"chunk_length 단위로 원본 오디오 파일을 temp 폴더에 저장\"\"\"\n",
        "        folder_path = os.path.join(BASE_DIR, 'temp')\n",
        "        if os.path.exists(BASE_DIR + '/temp'): # temp 폴더가 이미 존재한다면 폴더 삭제\n",
        "            os.system(\"rm -rf {}\".format(folder_path))\n",
        "\n",
        "        os.mkdir(folder_path) # temp 폴더 생성\n",
        "        chunk_length_ms = 1000 * chunk_length # pydub calculates in millisec\n",
        "        chunks = make_chunks(self.__audio, chunk_length_ms) #Make chunks of one sec      \n",
        "\n",
        "        for i, chunk in enumerate(chunks):\n",
        "            chunk_name = \"{}.wav\".format(i)\n",
        "            print(\"exporting \", chunk_name)\n",
        "            chunk.export(os.path.join(folder_path, chunk_name), format=\"wav\")"
      ],
      "id": "indirect-volume",
      "execution_count": null,
      "outputs": []
    },
    {
      "cell_type": "code",
      "metadata": {
        "id": "blank-protein"
      },
      "source": [
        "# AudioHandler 객체 생성\n",
        "audio = AudioHandler(MP4_SOURCE + '/asmr_nature_fire_20211014')"
      ],
      "id": "blank-protein",
      "execution_count": null,
      "outputs": []
    },
    {
      "cell_type": "code",
      "metadata": {
        "colab": {
          "base_uri": "https://localhost:8080/",
          "height": 35
        },
        "id": "K6XBxui32XKX",
        "outputId": "83ad1375-55a4-422e-aaa2-df80bea991e1"
      },
      "source": [
        "audio.file_path"
      ],
      "id": "K6XBxui32XKX",
      "execution_count": null,
      "outputs": [
        {
          "output_type": "execute_result",
          "data": {
            "application/vnd.google.colaboratory.intrinsic+json": {
              "type": "string"
            },
            "text/plain": [
              "'/content/MyDrive/MyDrive/[해커톤]DeepASMR/[code]yt_output/asmr_nature_fire_20211014'"
            ]
          },
          "metadata": {},
          "execution_count": 10
        }
      ]
    },
    {
      "cell_type": "code",
      "metadata": {
        "colab": {
          "base_uri": "https://localhost:8080/",
          "height": 35
        },
        "id": "SchnCRMa2Vi4",
        "outputId": "fd681657-249d-4502-b5a8-84a688050b6c"
      },
      "source": [
        "audio.file_name"
      ],
      "id": "SchnCRMa2Vi4",
      "execution_count": null,
      "outputs": [
        {
          "output_type": "execute_result",
          "data": {
            "application/vnd.google.colaboratory.intrinsic+json": {
              "type": "string"
            },
            "text/plain": [
              "'/content/MyDrive/MyDrive/[해커톤]DeepASMR/[code]yt_output/asmr_nature_fire_20211014'"
            ]
          },
          "metadata": {},
          "execution_count": 11
        }
      ]
    },
    {
      "cell_type": "code",
      "metadata": {
        "colab": {
          "base_uri": "https://localhost:8080/",
          "height": 35
        },
        "id": "o5leYoNr5-5h",
        "outputId": "e29e749a-3242-4167-cadc-890d82398ccc"
      },
      "source": [
        "audio.file_format"
      ],
      "id": "o5leYoNr5-5h",
      "execution_count": null,
      "outputs": [
        {
          "output_type": "execute_result",
          "data": {
            "application/vnd.google.colaboratory.intrinsic+json": {
              "type": "string"
            },
            "text/plain": [
              "''"
            ]
          },
          "metadata": {},
          "execution_count": 12
        }
      ]
    },
    {
      "cell_type": "code",
      "metadata": {
        "colab": {
          "base_uri": "https://localhost:8080/"
        },
        "id": "KF3AL0k6I8Ap",
        "outputId": "c4f83731-2cc9-40d2-90bb-1e867d322654"
      },
      "source": [
        "# MP4 -> WAV 변환\n",
        "audio.convert_to_wav()\n",
        "os.listdir(WAV_SOURCE)"
      ],
      "id": "KF3AL0k6I8Ap",
      "execution_count": null,
      "outputs": [
        {
          "output_type": "execute_result",
          "data": {
            "text/plain": [
              "['asmr_mix_20210608.wav',\n",
              " 'asmr_talk_whispering_191004.wav',\n",
              " 'asmr_talk_wordrepeat_200721.wav',\n",
              " '.ipynb_checkpoints',\n",
              " 'asmr_soft_mouthandbrush_211012.wav',\n",
              " 'asmr_soft_tongue_210908.wav',\n",
              " 'asmr_talk_hairsalon_170926.wav',\n",
              " 'asmr_tap_earcleaning_210617.wav',\n",
              " 'asmr_tap_soap_210327.wav',\n",
              " 'asmr_tap_wood_210930.wav',\n",
              " 'asmr_nature_fire_20211014.wav',\n",
              " 'asmr_1.wav']"
            ]
          },
          "metadata": {},
          "execution_count": 13
        }
      ]
    },
    {
      "cell_type": "code",
      "metadata": {
        "colab": {
          "base_uri": "https://localhost:8080/"
        },
        "id": "0W1NEJnT_HSb",
        "outputId": "aa34c70f-1ece-40cc-90cc-9bf9e838302e"
      },
      "source": [
        "# 원본 파일에서 0분 30초 ~ 1분 30초 구간을 현재 폴더에 'asmr_1.wav' 라는 파일명으로 저장\n",
        "audio.file_split(0, 30, 1, 30, 'asmr_1')\n",
        "os.listdir(WAV_SOURCE)"
      ],
      "id": "0W1NEJnT_HSb",
      "execution_count": null,
      "outputs": [
        {
          "output_type": "execute_result",
          "data": {
            "text/plain": [
              "['asmr_mix_20210608.wav',\n",
              " 'asmr_talk_whispering_191004.wav',\n",
              " 'asmr_talk_wordrepeat_200721.wav',\n",
              " 'asmr_soft_mouthandbrush_211012.wav',\n",
              " 'asmr_soft_tongue_210908.wav',\n",
              " 'asmr_talk_hairsalon_170926.wav',\n",
              " 'asmr_tap_earcleaning_210617.wav',\n",
              " 'asmr_tap_soap_210327.wav',\n",
              " 'asmr_tap_wood_210930.wav',\n",
              " 'asmr_nature_fire_20211014.wav',\n",
              " 'asmr_1.wav',\n",
              " '.ipynb_checkpoints']"
            ]
          },
          "metadata": {},
          "execution_count": 133
        }
      ]
    },
    {
      "cell_type": "code",
      "metadata": {
        "id": "pw5sLmz8ARqZ",
        "colab": {
          "base_uri": "https://localhost:8080/"
        },
        "outputId": "be72bf62-3567-45fe-e7a7-42318b879c37"
      },
      "source": [
        "# 30 초 단위로 audio chunk\n",
        "audio.chunk_wav_data(6)"
      ],
      "id": "pw5sLmz8ARqZ",
      "execution_count": null,
      "outputs": [
        {
          "output_type": "stream",
          "name": "stdout",
          "text": [
            "exporting  0.wav\n",
            "exporting  1.wav\n",
            "exporting  2.wav\n",
            "exporting  3.wav\n",
            "exporting  4.wav\n",
            "exporting  5.wav\n",
            "exporting  6.wav\n",
            "exporting  7.wav\n",
            "exporting  8.wav\n",
            "exporting  9.wav\n",
            "exporting  10.wav\n",
            "exporting  11.wav\n",
            "exporting  12.wav\n",
            "exporting  13.wav\n",
            "exporting  14.wav\n",
            "exporting  15.wav\n",
            "exporting  16.wav\n",
            "exporting  17.wav\n",
            "exporting  18.wav\n",
            "exporting  19.wav\n",
            "exporting  20.wav\n",
            "exporting  21.wav\n",
            "exporting  22.wav\n",
            "exporting  23.wav\n",
            "exporting  24.wav\n",
            "exporting  25.wav\n",
            "exporting  26.wav\n",
            "exporting  27.wav\n",
            "exporting  28.wav\n",
            "exporting  29.wav\n",
            "exporting  30.wav\n",
            "exporting  31.wav\n",
            "exporting  32.wav\n",
            "exporting  33.wav\n",
            "exporting  34.wav\n",
            "exporting  35.wav\n",
            "exporting  36.wav\n",
            "exporting  37.wav\n",
            "exporting  38.wav\n",
            "exporting  39.wav\n",
            "exporting  40.wav\n",
            "exporting  41.wav\n",
            "exporting  42.wav\n",
            "exporting  43.wav\n",
            "exporting  44.wav\n",
            "exporting  45.wav\n",
            "exporting  46.wav\n",
            "exporting  47.wav\n",
            "exporting  48.wav\n",
            "exporting  49.wav\n",
            "exporting  50.wav\n",
            "exporting  51.wav\n",
            "exporting  52.wav\n",
            "exporting  53.wav\n",
            "exporting  54.wav\n",
            "exporting  55.wav\n",
            "exporting  56.wav\n",
            "exporting  57.wav\n",
            "exporting  58.wav\n",
            "exporting  59.wav\n",
            "exporting  60.wav\n",
            "exporting  61.wav\n",
            "exporting  62.wav\n",
            "exporting  63.wav\n",
            "exporting  64.wav\n",
            "exporting  65.wav\n",
            "exporting  66.wav\n",
            "exporting  67.wav\n",
            "exporting  68.wav\n",
            "exporting  69.wav\n",
            "exporting  70.wav\n",
            "exporting  71.wav\n",
            "exporting  72.wav\n",
            "exporting  73.wav\n",
            "exporting  74.wav\n",
            "exporting  75.wav\n",
            "exporting  76.wav\n",
            "exporting  77.wav\n",
            "exporting  78.wav\n",
            "exporting  79.wav\n",
            "exporting  80.wav\n",
            "exporting  81.wav\n",
            "exporting  82.wav\n",
            "exporting  83.wav\n",
            "exporting  84.wav\n",
            "exporting  85.wav\n",
            "exporting  86.wav\n",
            "exporting  87.wav\n",
            "exporting  88.wav\n",
            "exporting  89.wav\n",
            "exporting  90.wav\n",
            "exporting  91.wav\n",
            "exporting  92.wav\n",
            "exporting  93.wav\n",
            "exporting  94.wav\n",
            "exporting  95.wav\n",
            "exporting  96.wav\n",
            "exporting  97.wav\n",
            "exporting  98.wav\n",
            "exporting  99.wav\n",
            "exporting  100.wav\n",
            "exporting  101.wav\n",
            "exporting  102.wav\n",
            "exporting  103.wav\n",
            "exporting  104.wav\n",
            "exporting  105.wav\n",
            "exporting  106.wav\n",
            "exporting  107.wav\n",
            "exporting  108.wav\n",
            "exporting  109.wav\n",
            "exporting  110.wav\n",
            "exporting  111.wav\n",
            "exporting  112.wav\n",
            "exporting  113.wav\n",
            "exporting  114.wav\n",
            "exporting  115.wav\n",
            "exporting  116.wav\n",
            "exporting  117.wav\n",
            "exporting  118.wav\n",
            "exporting  119.wav\n",
            "exporting  120.wav\n",
            "exporting  121.wav\n",
            "exporting  122.wav\n",
            "exporting  123.wav\n",
            "exporting  124.wav\n",
            "exporting  125.wav\n",
            "exporting  126.wav\n",
            "exporting  127.wav\n",
            "exporting  128.wav\n",
            "exporting  129.wav\n",
            "exporting  130.wav\n",
            "exporting  131.wav\n",
            "exporting  132.wav\n",
            "exporting  133.wav\n",
            "exporting  134.wav\n",
            "exporting  135.wav\n",
            "exporting  136.wav\n",
            "exporting  137.wav\n",
            "exporting  138.wav\n",
            "exporting  139.wav\n",
            "exporting  140.wav\n",
            "exporting  141.wav\n",
            "exporting  142.wav\n",
            "exporting  143.wav\n",
            "exporting  144.wav\n",
            "exporting  145.wav\n",
            "exporting  146.wav\n",
            "exporting  147.wav\n",
            "exporting  148.wav\n",
            "exporting  149.wav\n",
            "exporting  150.wav\n",
            "exporting  151.wav\n",
            "exporting  152.wav\n",
            "exporting  153.wav\n",
            "exporting  154.wav\n",
            "exporting  155.wav\n",
            "exporting  156.wav\n",
            "exporting  157.wav\n",
            "exporting  158.wav\n",
            "exporting  159.wav\n",
            "exporting  160.wav\n",
            "exporting  161.wav\n",
            "exporting  162.wav\n",
            "exporting  163.wav\n",
            "exporting  164.wav\n",
            "exporting  165.wav\n",
            "exporting  166.wav\n",
            "exporting  167.wav\n",
            "exporting  168.wav\n",
            "exporting  169.wav\n",
            "exporting  170.wav\n",
            "exporting  171.wav\n",
            "exporting  172.wav\n",
            "exporting  173.wav\n",
            "exporting  174.wav\n",
            "exporting  175.wav\n",
            "exporting  176.wav\n",
            "exporting  177.wav\n",
            "exporting  178.wav\n",
            "exporting  179.wav\n",
            "exporting  180.wav\n",
            "exporting  181.wav\n",
            "exporting  182.wav\n",
            "exporting  183.wav\n",
            "exporting  184.wav\n",
            "exporting  185.wav\n",
            "exporting  186.wav\n",
            "exporting  187.wav\n",
            "exporting  188.wav\n",
            "exporting  189.wav\n",
            "exporting  190.wav\n",
            "exporting  191.wav\n",
            "exporting  192.wav\n",
            "exporting  193.wav\n",
            "exporting  194.wav\n",
            "exporting  195.wav\n",
            "exporting  196.wav\n",
            "exporting  197.wav\n",
            "exporting  198.wav\n",
            "exporting  199.wav\n",
            "exporting  200.wav\n",
            "exporting  201.wav\n",
            "exporting  202.wav\n",
            "exporting  203.wav\n",
            "exporting  204.wav\n",
            "exporting  205.wav\n",
            "exporting  206.wav\n",
            "exporting  207.wav\n",
            "exporting  208.wav\n",
            "exporting  209.wav\n",
            "exporting  210.wav\n",
            "exporting  211.wav\n",
            "exporting  212.wav\n",
            "exporting  213.wav\n",
            "exporting  214.wav\n",
            "exporting  215.wav\n",
            "exporting  216.wav\n",
            "exporting  217.wav\n",
            "exporting  218.wav\n",
            "exporting  219.wav\n",
            "exporting  220.wav\n",
            "exporting  221.wav\n",
            "exporting  222.wav\n",
            "exporting  223.wav\n",
            "exporting  224.wav\n",
            "exporting  225.wav\n",
            "exporting  226.wav\n",
            "exporting  227.wav\n",
            "exporting  228.wav\n",
            "exporting  229.wav\n",
            "exporting  230.wav\n",
            "exporting  231.wav\n",
            "exporting  232.wav\n",
            "exporting  233.wav\n",
            "exporting  234.wav\n",
            "exporting  235.wav\n",
            "exporting  236.wav\n",
            "exporting  237.wav\n",
            "exporting  238.wav\n",
            "exporting  239.wav\n",
            "exporting  240.wav\n",
            "exporting  241.wav\n",
            "exporting  242.wav\n",
            "exporting  243.wav\n",
            "exporting  244.wav\n",
            "exporting  245.wav\n",
            "exporting  246.wav\n",
            "exporting  247.wav\n",
            "exporting  248.wav\n",
            "exporting  249.wav\n",
            "exporting  250.wav\n",
            "exporting  251.wav\n",
            "exporting  252.wav\n",
            "exporting  253.wav\n",
            "exporting  254.wav\n",
            "exporting  255.wav\n",
            "exporting  256.wav\n",
            "exporting  257.wav\n",
            "exporting  258.wav\n",
            "exporting  259.wav\n",
            "exporting  260.wav\n",
            "exporting  261.wav\n",
            "exporting  262.wav\n",
            "exporting  263.wav\n",
            "exporting  264.wav\n",
            "exporting  265.wav\n",
            "exporting  266.wav\n",
            "exporting  267.wav\n",
            "exporting  268.wav\n",
            "exporting  269.wav\n",
            "exporting  270.wav\n",
            "exporting  271.wav\n",
            "exporting  272.wav\n",
            "exporting  273.wav\n",
            "exporting  274.wav\n",
            "exporting  275.wav\n",
            "exporting  276.wav\n",
            "exporting  277.wav\n",
            "exporting  278.wav\n",
            "exporting  279.wav\n",
            "exporting  280.wav\n",
            "exporting  281.wav\n",
            "exporting  282.wav\n",
            "exporting  283.wav\n",
            "exporting  284.wav\n",
            "exporting  285.wav\n",
            "exporting  286.wav\n",
            "exporting  287.wav\n",
            "exporting  288.wav\n",
            "exporting  289.wav\n",
            "exporting  290.wav\n",
            "exporting  291.wav\n",
            "exporting  292.wav\n",
            "exporting  293.wav\n",
            "exporting  294.wav\n",
            "exporting  295.wav\n",
            "exporting  296.wav\n",
            "exporting  297.wav\n",
            "exporting  298.wav\n",
            "exporting  299.wav\n",
            "exporting  300.wav\n",
            "exporting  301.wav\n",
            "exporting  302.wav\n",
            "exporting  303.wav\n",
            "exporting  304.wav\n",
            "exporting  305.wav\n",
            "exporting  306.wav\n",
            "exporting  307.wav\n",
            "exporting  308.wav\n",
            "exporting  309.wav\n",
            "exporting  310.wav\n",
            "exporting  311.wav\n",
            "exporting  312.wav\n",
            "exporting  313.wav\n",
            "exporting  314.wav\n",
            "exporting  315.wav\n",
            "exporting  316.wav\n",
            "exporting  317.wav\n",
            "exporting  318.wav\n",
            "exporting  319.wav\n",
            "exporting  320.wav\n",
            "exporting  321.wav\n",
            "exporting  322.wav\n",
            "exporting  323.wav\n",
            "exporting  324.wav\n",
            "exporting  325.wav\n",
            "exporting  326.wav\n",
            "exporting  327.wav\n",
            "exporting  328.wav\n",
            "exporting  329.wav\n",
            "exporting  330.wav\n",
            "exporting  331.wav\n",
            "exporting  332.wav\n",
            "exporting  333.wav\n",
            "exporting  334.wav\n",
            "exporting  335.wav\n",
            "exporting  336.wav\n",
            "exporting  337.wav\n",
            "exporting  338.wav\n",
            "exporting  339.wav\n",
            "exporting  340.wav\n",
            "exporting  341.wav\n",
            "exporting  342.wav\n",
            "exporting  343.wav\n",
            "exporting  344.wav\n",
            "exporting  345.wav\n",
            "exporting  346.wav\n",
            "exporting  347.wav\n",
            "exporting  348.wav\n",
            "exporting  349.wav\n",
            "exporting  350.wav\n",
            "exporting  351.wav\n",
            "exporting  352.wav\n",
            "exporting  353.wav\n",
            "exporting  354.wav\n",
            "exporting  355.wav\n",
            "exporting  356.wav\n",
            "exporting  357.wav\n",
            "exporting  358.wav\n",
            "exporting  359.wav\n",
            "exporting  360.wav\n",
            "exporting  361.wav\n",
            "exporting  362.wav\n",
            "exporting  363.wav\n",
            "exporting  364.wav\n",
            "exporting  365.wav\n",
            "exporting  366.wav\n",
            "exporting  367.wav\n",
            "exporting  368.wav\n",
            "exporting  369.wav\n",
            "exporting  370.wav\n",
            "exporting  371.wav\n",
            "exporting  372.wav\n",
            "exporting  373.wav\n",
            "exporting  374.wav\n",
            "exporting  375.wav\n",
            "exporting  376.wav\n",
            "exporting  377.wav\n",
            "exporting  378.wav\n",
            "exporting  379.wav\n",
            "exporting  380.wav\n",
            "exporting  381.wav\n",
            "exporting  382.wav\n",
            "exporting  383.wav\n",
            "exporting  384.wav\n",
            "exporting  385.wav\n",
            "exporting  386.wav\n",
            "exporting  387.wav\n",
            "exporting  388.wav\n",
            "exporting  389.wav\n",
            "exporting  390.wav\n",
            "exporting  391.wav\n",
            "exporting  392.wav\n",
            "exporting  393.wav\n",
            "exporting  394.wav\n",
            "exporting  395.wav\n",
            "exporting  396.wav\n",
            "exporting  397.wav\n",
            "exporting  398.wav\n",
            "exporting  399.wav\n",
            "exporting  400.wav\n",
            "exporting  401.wav\n",
            "exporting  402.wav\n",
            "exporting  403.wav\n",
            "exporting  404.wav\n",
            "exporting  405.wav\n",
            "exporting  406.wav\n",
            "exporting  407.wav\n",
            "exporting  408.wav\n",
            "exporting  409.wav\n",
            "exporting  410.wav\n",
            "exporting  411.wav\n",
            "exporting  412.wav\n",
            "exporting  413.wav\n",
            "exporting  414.wav\n",
            "exporting  415.wav\n",
            "exporting  416.wav\n",
            "exporting  417.wav\n",
            "exporting  418.wav\n",
            "exporting  419.wav\n",
            "exporting  420.wav\n",
            "exporting  421.wav\n",
            "exporting  422.wav\n",
            "exporting  423.wav\n",
            "exporting  424.wav\n",
            "exporting  425.wav\n",
            "exporting  426.wav\n",
            "exporting  427.wav\n",
            "exporting  428.wav\n",
            "exporting  429.wav\n",
            "exporting  430.wav\n",
            "exporting  431.wav\n",
            "exporting  432.wav\n",
            "exporting  433.wav\n",
            "exporting  434.wav\n",
            "exporting  435.wav\n",
            "exporting  436.wav\n",
            "exporting  437.wav\n",
            "exporting  438.wav\n",
            "exporting  439.wav\n",
            "exporting  440.wav\n",
            "exporting  441.wav\n",
            "exporting  442.wav\n",
            "exporting  443.wav\n",
            "exporting  444.wav\n",
            "exporting  445.wav\n",
            "exporting  446.wav\n",
            "exporting  447.wav\n",
            "exporting  448.wav\n",
            "exporting  449.wav\n",
            "exporting  450.wav\n",
            "exporting  451.wav\n",
            "exporting  452.wav\n",
            "exporting  453.wav\n",
            "exporting  454.wav\n",
            "exporting  455.wav\n",
            "exporting  456.wav\n",
            "exporting  457.wav\n",
            "exporting  458.wav\n",
            "exporting  459.wav\n",
            "exporting  460.wav\n",
            "exporting  461.wav\n",
            "exporting  462.wav\n",
            "exporting  463.wav\n",
            "exporting  464.wav\n",
            "exporting  465.wav\n",
            "exporting  466.wav\n",
            "exporting  467.wav\n",
            "exporting  468.wav\n",
            "exporting  469.wav\n",
            "exporting  470.wav\n",
            "exporting  471.wav\n",
            "exporting  472.wav\n",
            "exporting  473.wav\n",
            "exporting  474.wav\n",
            "exporting  475.wav\n",
            "exporting  476.wav\n",
            "exporting  477.wav\n",
            "exporting  478.wav\n",
            "exporting  479.wav\n",
            "exporting  480.wav\n",
            "exporting  481.wav\n",
            "exporting  482.wav\n",
            "exporting  483.wav\n",
            "exporting  484.wav\n",
            "exporting  485.wav\n",
            "exporting  486.wav\n",
            "exporting  487.wav\n",
            "exporting  488.wav\n",
            "exporting  489.wav\n",
            "exporting  490.wav\n",
            "exporting  491.wav\n",
            "exporting  492.wav\n",
            "exporting  493.wav\n",
            "exporting  494.wav\n",
            "exporting  495.wav\n",
            "exporting  496.wav\n",
            "exporting  497.wav\n",
            "exporting  498.wav\n",
            "exporting  499.wav\n",
            "exporting  500.wav\n",
            "exporting  501.wav\n",
            "exporting  502.wav\n",
            "exporting  503.wav\n",
            "exporting  504.wav\n",
            "exporting  505.wav\n",
            "exporting  506.wav\n",
            "exporting  507.wav\n",
            "exporting  508.wav\n",
            "exporting  509.wav\n",
            "exporting  510.wav\n",
            "exporting  511.wav\n",
            "exporting  512.wav\n",
            "exporting  513.wav\n",
            "exporting  514.wav\n",
            "exporting  515.wav\n",
            "exporting  516.wav\n",
            "exporting  517.wav\n",
            "exporting  518.wav\n",
            "exporting  519.wav\n",
            "exporting  520.wav\n",
            "exporting  521.wav\n",
            "exporting  522.wav\n",
            "exporting  523.wav\n",
            "exporting  524.wav\n",
            "exporting  525.wav\n",
            "exporting  526.wav\n",
            "exporting  527.wav\n",
            "exporting  528.wav\n",
            "exporting  529.wav\n",
            "exporting  530.wav\n",
            "exporting  531.wav\n",
            "exporting  532.wav\n",
            "exporting  533.wav\n",
            "exporting  534.wav\n",
            "exporting  535.wav\n",
            "exporting  536.wav\n",
            "exporting  537.wav\n",
            "exporting  538.wav\n",
            "exporting  539.wav\n",
            "exporting  540.wav\n",
            "exporting  541.wav\n",
            "exporting  542.wav\n",
            "exporting  543.wav\n",
            "exporting  544.wav\n",
            "exporting  545.wav\n",
            "exporting  546.wav\n",
            "exporting  547.wav\n",
            "exporting  548.wav\n",
            "exporting  549.wav\n",
            "exporting  550.wav\n",
            "exporting  551.wav\n",
            "exporting  552.wav\n",
            "exporting  553.wav\n",
            "exporting  554.wav\n",
            "exporting  555.wav\n",
            "exporting  556.wav\n",
            "exporting  557.wav\n",
            "exporting  558.wav\n",
            "exporting  559.wav\n",
            "exporting  560.wav\n",
            "exporting  561.wav\n",
            "exporting  562.wav\n",
            "exporting  563.wav\n",
            "exporting  564.wav\n",
            "exporting  565.wav\n",
            "exporting  566.wav\n",
            "exporting  567.wav\n",
            "exporting  568.wav\n",
            "exporting  569.wav\n",
            "exporting  570.wav\n",
            "exporting  571.wav\n",
            "exporting  572.wav\n",
            "exporting  573.wav\n",
            "exporting  574.wav\n",
            "exporting  575.wav\n",
            "exporting  576.wav\n",
            "exporting  577.wav\n",
            "exporting  578.wav\n",
            "exporting  579.wav\n",
            "exporting  580.wav\n",
            "exporting  581.wav\n",
            "exporting  582.wav\n",
            "exporting  583.wav\n",
            "exporting  584.wav\n",
            "exporting  585.wav\n",
            "exporting  586.wav\n",
            "exporting  587.wav\n",
            "exporting  588.wav\n",
            "exporting  589.wav\n",
            "exporting  590.wav\n",
            "exporting  591.wav\n",
            "exporting  592.wav\n",
            "exporting  593.wav\n",
            "exporting  594.wav\n",
            "exporting  595.wav\n",
            "exporting  596.wav\n",
            "exporting  597.wav\n",
            "exporting  598.wav\n",
            "exporting  599.wav\n",
            "exporting  600.wav\n",
            "exporting  601.wav\n",
            "exporting  602.wav\n",
            "exporting  603.wav\n",
            "exporting  604.wav\n",
            "exporting  605.wav\n",
            "exporting  606.wav\n",
            "exporting  607.wav\n",
            "exporting  608.wav\n",
            "exporting  609.wav\n",
            "exporting  610.wav\n",
            "exporting  611.wav\n",
            "exporting  612.wav\n",
            "exporting  613.wav\n",
            "exporting  614.wav\n",
            "exporting  615.wav\n",
            "exporting  616.wav\n",
            "exporting  617.wav\n",
            "exporting  618.wav\n",
            "exporting  619.wav\n",
            "exporting  620.wav\n",
            "exporting  621.wav\n",
            "exporting  622.wav\n",
            "exporting  623.wav\n",
            "exporting  624.wav\n",
            "exporting  625.wav\n",
            "exporting  626.wav\n",
            "exporting  627.wav\n",
            "exporting  628.wav\n",
            "exporting  629.wav\n",
            "exporting  630.wav\n",
            "exporting  631.wav\n",
            "exporting  632.wav\n",
            "exporting  633.wav\n",
            "exporting  634.wav\n",
            "exporting  635.wav\n",
            "exporting  636.wav\n",
            "exporting  637.wav\n",
            "exporting  638.wav\n",
            "exporting  639.wav\n",
            "exporting  640.wav\n",
            "exporting  641.wav\n",
            "exporting  642.wav\n",
            "exporting  643.wav\n",
            "exporting  644.wav\n",
            "exporting  645.wav\n",
            "exporting  646.wav\n",
            "exporting  647.wav\n",
            "exporting  648.wav\n",
            "exporting  649.wav\n",
            "exporting  650.wav\n",
            "exporting  651.wav\n",
            "exporting  652.wav\n",
            "exporting  653.wav\n",
            "exporting  654.wav\n",
            "exporting  655.wav\n",
            "exporting  656.wav\n",
            "exporting  657.wav\n",
            "exporting  658.wav\n",
            "exporting  659.wav\n",
            "exporting  660.wav\n",
            "exporting  661.wav\n",
            "exporting  662.wav\n",
            "exporting  663.wav\n",
            "exporting  664.wav\n",
            "exporting  665.wav\n",
            "exporting  666.wav\n",
            "exporting  667.wav\n",
            "exporting  668.wav\n",
            "exporting  669.wav\n",
            "exporting  670.wav\n",
            "exporting  671.wav\n",
            "exporting  672.wav\n",
            "exporting  673.wav\n",
            "exporting  674.wav\n",
            "exporting  675.wav\n",
            "exporting  676.wav\n",
            "exporting  677.wav\n",
            "exporting  678.wav\n",
            "exporting  679.wav\n",
            "exporting  680.wav\n",
            "exporting  681.wav\n",
            "exporting  682.wav\n",
            "exporting  683.wav\n",
            "exporting  684.wav\n",
            "exporting  685.wav\n",
            "exporting  686.wav\n",
            "exporting  687.wav\n",
            "exporting  688.wav\n",
            "exporting  689.wav\n",
            "exporting  690.wav\n",
            "exporting  691.wav\n",
            "exporting  692.wav\n",
            "exporting  693.wav\n",
            "exporting  694.wav\n",
            "exporting  695.wav\n",
            "exporting  696.wav\n",
            "exporting  697.wav\n",
            "exporting  698.wav\n",
            "exporting  699.wav\n",
            "exporting  700.wav\n",
            "exporting  701.wav\n",
            "exporting  702.wav\n",
            "exporting  703.wav\n",
            "exporting  704.wav\n",
            "exporting  705.wav\n",
            "exporting  706.wav\n",
            "exporting  707.wav\n",
            "exporting  708.wav\n",
            "exporting  709.wav\n",
            "exporting  710.wav\n",
            "exporting  711.wav\n",
            "exporting  712.wav\n",
            "exporting  713.wav\n",
            "exporting  714.wav\n",
            "exporting  715.wav\n",
            "exporting  716.wav\n",
            "exporting  717.wav\n",
            "exporting  718.wav\n",
            "exporting  719.wav\n",
            "exporting  720.wav\n",
            "exporting  721.wav\n",
            "exporting  722.wav\n",
            "exporting  723.wav\n",
            "exporting  724.wav\n",
            "exporting  725.wav\n",
            "exporting  726.wav\n",
            "exporting  727.wav\n",
            "exporting  728.wav\n",
            "exporting  729.wav\n",
            "exporting  730.wav\n",
            "exporting  731.wav\n",
            "exporting  732.wav\n",
            "exporting  733.wav\n",
            "exporting  734.wav\n",
            "exporting  735.wav\n",
            "exporting  736.wav\n",
            "exporting  737.wav\n",
            "exporting  738.wav\n",
            "exporting  739.wav\n",
            "exporting  740.wav\n",
            "exporting  741.wav\n",
            "exporting  742.wav\n",
            "exporting  743.wav\n",
            "exporting  744.wav\n",
            "exporting  745.wav\n",
            "exporting  746.wav\n",
            "exporting  747.wav\n",
            "exporting  748.wav\n",
            "exporting  749.wav\n",
            "exporting  750.wav\n",
            "exporting  751.wav\n",
            "exporting  752.wav\n",
            "exporting  753.wav\n",
            "exporting  754.wav\n",
            "exporting  755.wav\n",
            "exporting  756.wav\n",
            "exporting  757.wav\n",
            "exporting  758.wav\n",
            "exporting  759.wav\n",
            "exporting  760.wav\n",
            "exporting  761.wav\n",
            "exporting  762.wav\n",
            "exporting  763.wav\n",
            "exporting  764.wav\n",
            "exporting  765.wav\n",
            "exporting  766.wav\n",
            "exporting  767.wav\n",
            "exporting  768.wav\n",
            "exporting  769.wav\n",
            "exporting  770.wav\n",
            "exporting  771.wav\n",
            "exporting  772.wav\n",
            "exporting  773.wav\n",
            "exporting  774.wav\n",
            "exporting  775.wav\n",
            "exporting  776.wav\n",
            "exporting  777.wav\n",
            "exporting  778.wav\n",
            "exporting  779.wav\n",
            "exporting  780.wav\n",
            "exporting  781.wav\n",
            "exporting  782.wav\n",
            "exporting  783.wav\n",
            "exporting  784.wav\n",
            "exporting  785.wav\n",
            "exporting  786.wav\n",
            "exporting  787.wav\n",
            "exporting  788.wav\n",
            "exporting  789.wav\n",
            "exporting  790.wav\n",
            "exporting  791.wav\n",
            "exporting  792.wav\n",
            "exporting  793.wav\n",
            "exporting  794.wav\n",
            "exporting  795.wav\n",
            "exporting  796.wav\n",
            "exporting  797.wav\n",
            "exporting  798.wav\n",
            "exporting  799.wav\n",
            "exporting  800.wav\n",
            "exporting  801.wav\n",
            "exporting  802.wav\n",
            "exporting  803.wav\n",
            "exporting  804.wav\n",
            "exporting  805.wav\n",
            "exporting  806.wav\n",
            "exporting  807.wav\n",
            "exporting  808.wav\n",
            "exporting  809.wav\n",
            "exporting  810.wav\n",
            "exporting  811.wav\n",
            "exporting  812.wav\n",
            "exporting  813.wav\n",
            "exporting  814.wav\n",
            "exporting  815.wav\n",
            "exporting  816.wav\n",
            "exporting  817.wav\n",
            "exporting  818.wav\n",
            "exporting  819.wav\n",
            "exporting  820.wav\n",
            "exporting  821.wav\n",
            "exporting  822.wav\n",
            "exporting  823.wav\n",
            "exporting  824.wav\n",
            "exporting  825.wav\n",
            "exporting  826.wav\n",
            "exporting  827.wav\n",
            "exporting  828.wav\n",
            "exporting  829.wav\n",
            "exporting  830.wav\n",
            "exporting  831.wav\n",
            "exporting  832.wav\n",
            "exporting  833.wav\n",
            "exporting  834.wav\n",
            "exporting  835.wav\n",
            "exporting  836.wav\n",
            "exporting  837.wav\n",
            "exporting  838.wav\n",
            "exporting  839.wav\n",
            "exporting  840.wav\n",
            "exporting  841.wav\n",
            "exporting  842.wav\n",
            "exporting  843.wav\n",
            "exporting  844.wav\n",
            "exporting  845.wav\n",
            "exporting  846.wav\n",
            "exporting  847.wav\n",
            "exporting  848.wav\n",
            "exporting  849.wav\n",
            "exporting  850.wav\n",
            "exporting  851.wav\n",
            "exporting  852.wav\n",
            "exporting  853.wav\n",
            "exporting  854.wav\n",
            "exporting  855.wav\n",
            "exporting  856.wav\n",
            "exporting  857.wav\n",
            "exporting  858.wav\n",
            "exporting  859.wav\n",
            "exporting  860.wav\n",
            "exporting  861.wav\n",
            "exporting  862.wav\n",
            "exporting  863.wav\n",
            "exporting  864.wav\n",
            "exporting  865.wav\n",
            "exporting  866.wav\n",
            "exporting  867.wav\n",
            "exporting  868.wav\n",
            "exporting  869.wav\n",
            "exporting  870.wav\n",
            "exporting  871.wav\n",
            "exporting  872.wav\n",
            "exporting  873.wav\n",
            "exporting  874.wav\n",
            "exporting  875.wav\n",
            "exporting  876.wav\n",
            "exporting  877.wav\n",
            "exporting  878.wav\n",
            "exporting  879.wav\n",
            "exporting  880.wav\n",
            "exporting  881.wav\n",
            "exporting  882.wav\n",
            "exporting  883.wav\n",
            "exporting  884.wav\n",
            "exporting  885.wav\n",
            "exporting  886.wav\n",
            "exporting  887.wav\n",
            "exporting  888.wav\n",
            "exporting  889.wav\n",
            "exporting  890.wav\n",
            "exporting  891.wav\n",
            "exporting  892.wav\n",
            "exporting  893.wav\n",
            "exporting  894.wav\n",
            "exporting  895.wav\n",
            "exporting  896.wav\n",
            "exporting  897.wav\n",
            "exporting  898.wav\n",
            "exporting  899.wav\n",
            "exporting  900.wav\n",
            "exporting  901.wav\n",
            "exporting  902.wav\n",
            "exporting  903.wav\n",
            "exporting  904.wav\n",
            "exporting  905.wav\n",
            "exporting  906.wav\n",
            "exporting  907.wav\n",
            "exporting  908.wav\n",
            "exporting  909.wav\n",
            "exporting  910.wav\n",
            "exporting  911.wav\n",
            "exporting  912.wav\n",
            "exporting  913.wav\n",
            "exporting  914.wav\n",
            "exporting  915.wav\n",
            "exporting  916.wav\n",
            "exporting  917.wav\n",
            "exporting  918.wav\n",
            "exporting  919.wav\n",
            "exporting  920.wav\n",
            "exporting  921.wav\n",
            "exporting  922.wav\n",
            "exporting  923.wav\n",
            "exporting  924.wav\n",
            "exporting  925.wav\n",
            "exporting  926.wav\n",
            "exporting  927.wav\n",
            "exporting  928.wav\n",
            "exporting  929.wav\n",
            "exporting  930.wav\n",
            "exporting  931.wav\n",
            "exporting  932.wav\n",
            "exporting  933.wav\n",
            "exporting  934.wav\n",
            "exporting  935.wav\n",
            "exporting  936.wav\n",
            "exporting  937.wav\n",
            "exporting  938.wav\n",
            "exporting  939.wav\n",
            "exporting  940.wav\n",
            "exporting  941.wav\n",
            "exporting  942.wav\n",
            "exporting  943.wav\n",
            "exporting  944.wav\n",
            "exporting  945.wav\n",
            "exporting  946.wav\n",
            "exporting  947.wav\n",
            "exporting  948.wav\n",
            "exporting  949.wav\n",
            "exporting  950.wav\n",
            "exporting  951.wav\n",
            "exporting  952.wav\n",
            "exporting  953.wav\n",
            "exporting  954.wav\n",
            "exporting  955.wav\n",
            "exporting  956.wav\n",
            "exporting  957.wav\n",
            "exporting  958.wav\n",
            "exporting  959.wav\n",
            "exporting  960.wav\n",
            "exporting  961.wav\n",
            "exporting  962.wav\n",
            "exporting  963.wav\n",
            "exporting  964.wav\n",
            "exporting  965.wav\n",
            "exporting  966.wav\n",
            "exporting  967.wav\n",
            "exporting  968.wav\n",
            "exporting  969.wav\n",
            "exporting  970.wav\n",
            "exporting  971.wav\n",
            "exporting  972.wav\n",
            "exporting  973.wav\n",
            "exporting  974.wav\n",
            "exporting  975.wav\n",
            "exporting  976.wav\n",
            "exporting  977.wav\n",
            "exporting  978.wav\n",
            "exporting  979.wav\n",
            "exporting  980.wav\n",
            "exporting  981.wav\n",
            "exporting  982.wav\n",
            "exporting  983.wav\n",
            "exporting  984.wav\n",
            "exporting  985.wav\n",
            "exporting  986.wav\n",
            "exporting  987.wav\n",
            "exporting  988.wav\n",
            "exporting  989.wav\n",
            "exporting  990.wav\n",
            "exporting  991.wav\n",
            "exporting  992.wav\n",
            "exporting  993.wav\n",
            "exporting  994.wav\n",
            "exporting  995.wav\n",
            "exporting  996.wav\n",
            "exporting  997.wav\n",
            "exporting  998.wav\n",
            "exporting  999.wav\n",
            "exporting  1000.wav\n",
            "exporting  1001.wav\n",
            "exporting  1002.wav\n",
            "exporting  1003.wav\n",
            "exporting  1004.wav\n",
            "exporting  1005.wav\n",
            "exporting  1006.wav\n",
            "exporting  1007.wav\n",
            "exporting  1008.wav\n",
            "exporting  1009.wav\n",
            "exporting  1010.wav\n",
            "exporting  1011.wav\n",
            "exporting  1012.wav\n",
            "exporting  1013.wav\n",
            "exporting  1014.wav\n",
            "exporting  1015.wav\n",
            "exporting  1016.wav\n",
            "exporting  1017.wav\n",
            "exporting  1018.wav\n",
            "exporting  1019.wav\n",
            "exporting  1020.wav\n",
            "exporting  1021.wav\n",
            "exporting  1022.wav\n",
            "exporting  1023.wav\n",
            "exporting  1024.wav\n",
            "exporting  1025.wav\n",
            "exporting  1026.wav\n",
            "exporting  1027.wav\n",
            "exporting  1028.wav\n",
            "exporting  1029.wav\n",
            "exporting  1030.wav\n",
            "exporting  1031.wav\n",
            "exporting  1032.wav\n",
            "exporting  1033.wav\n",
            "exporting  1034.wav\n",
            "exporting  1035.wav\n",
            "exporting  1036.wav\n",
            "exporting  1037.wav\n",
            "exporting  1038.wav\n",
            "exporting  1039.wav\n",
            "exporting  1040.wav\n",
            "exporting  1041.wav\n",
            "exporting  1042.wav\n",
            "exporting  1043.wav\n",
            "exporting  1044.wav\n",
            "exporting  1045.wav\n",
            "exporting  1046.wav\n",
            "exporting  1047.wav\n",
            "exporting  1048.wav\n",
            "exporting  1049.wav\n",
            "exporting  1050.wav\n",
            "exporting  1051.wav\n",
            "exporting  1052.wav\n",
            "exporting  1053.wav\n",
            "exporting  1054.wav\n",
            "exporting  1055.wav\n",
            "exporting  1056.wav\n",
            "exporting  1057.wav\n",
            "exporting  1058.wav\n",
            "exporting  1059.wav\n",
            "exporting  1060.wav\n",
            "exporting  1061.wav\n",
            "exporting  1062.wav\n",
            "exporting  1063.wav\n",
            "exporting  1064.wav\n",
            "exporting  1065.wav\n",
            "exporting  1066.wav\n",
            "exporting  1067.wav\n",
            "exporting  1068.wav\n",
            "exporting  1069.wav\n",
            "exporting  1070.wav\n",
            "exporting  1071.wav\n",
            "exporting  1072.wav\n",
            "exporting  1073.wav\n",
            "exporting  1074.wav\n",
            "exporting  1075.wav\n",
            "exporting  1076.wav\n",
            "exporting  1077.wav\n",
            "exporting  1078.wav\n",
            "exporting  1079.wav\n",
            "exporting  1080.wav\n",
            "exporting  1081.wav\n",
            "exporting  1082.wav\n",
            "exporting  1083.wav\n",
            "exporting  1084.wav\n",
            "exporting  1085.wav\n",
            "exporting  1086.wav\n",
            "exporting  1087.wav\n",
            "exporting  1088.wav\n",
            "exporting  1089.wav\n",
            "exporting  1090.wav\n",
            "exporting  1091.wav\n",
            "exporting  1092.wav\n",
            "exporting  1093.wav\n",
            "exporting  1094.wav\n",
            "exporting  1095.wav\n",
            "exporting  1096.wav\n",
            "exporting  1097.wav\n",
            "exporting  1098.wav\n",
            "exporting  1099.wav\n",
            "exporting  1100.wav\n",
            "exporting  1101.wav\n",
            "exporting  1102.wav\n",
            "exporting  1103.wav\n",
            "exporting  1104.wav\n",
            "exporting  1105.wav\n",
            "exporting  1106.wav\n",
            "exporting  1107.wav\n",
            "exporting  1108.wav\n",
            "exporting  1109.wav\n",
            "exporting  1110.wav\n",
            "exporting  1111.wav\n",
            "exporting  1112.wav\n",
            "exporting  1113.wav\n",
            "exporting  1114.wav\n",
            "exporting  1115.wav\n",
            "exporting  1116.wav\n",
            "exporting  1117.wav\n",
            "exporting  1118.wav\n",
            "exporting  1119.wav\n",
            "exporting  1120.wav\n",
            "exporting  1121.wav\n",
            "exporting  1122.wav\n",
            "exporting  1123.wav\n",
            "exporting  1124.wav\n",
            "exporting  1125.wav\n",
            "exporting  1126.wav\n",
            "exporting  1127.wav\n",
            "exporting  1128.wav\n",
            "exporting  1129.wav\n",
            "exporting  1130.wav\n",
            "exporting  1131.wav\n",
            "exporting  1132.wav\n",
            "exporting  1133.wav\n",
            "exporting  1134.wav\n",
            "exporting  1135.wav\n",
            "exporting  1136.wav\n",
            "exporting  1137.wav\n",
            "exporting  1138.wav\n",
            "exporting  1139.wav\n",
            "exporting  1140.wav\n",
            "exporting  1141.wav\n",
            "exporting  1142.wav\n",
            "exporting  1143.wav\n",
            "exporting  1144.wav\n",
            "exporting  1145.wav\n",
            "exporting  1146.wav\n",
            "exporting  1147.wav\n",
            "exporting  1148.wav\n",
            "exporting  1149.wav\n",
            "exporting  1150.wav\n",
            "exporting  1151.wav\n",
            "exporting  1152.wav\n",
            "exporting  1153.wav\n",
            "exporting  1154.wav\n",
            "exporting  1155.wav\n",
            "exporting  1156.wav\n",
            "exporting  1157.wav\n",
            "exporting  1158.wav\n",
            "exporting  1159.wav\n",
            "exporting  1160.wav\n",
            "exporting  1161.wav\n",
            "exporting  1162.wav\n",
            "exporting  1163.wav\n",
            "exporting  1164.wav\n",
            "exporting  1165.wav\n",
            "exporting  1166.wav\n",
            "exporting  1167.wav\n",
            "exporting  1168.wav\n",
            "exporting  1169.wav\n",
            "exporting  1170.wav\n",
            "exporting  1171.wav\n",
            "exporting  1172.wav\n",
            "exporting  1173.wav\n",
            "exporting  1174.wav\n",
            "exporting  1175.wav\n",
            "exporting  1176.wav\n",
            "exporting  1177.wav\n",
            "exporting  1178.wav\n",
            "exporting  1179.wav\n",
            "exporting  1180.wav\n",
            "exporting  1181.wav\n",
            "exporting  1182.wav\n",
            "exporting  1183.wav\n",
            "exporting  1184.wav\n",
            "exporting  1185.wav\n",
            "exporting  1186.wav\n",
            "exporting  1187.wav\n",
            "exporting  1188.wav\n",
            "exporting  1189.wav\n",
            "exporting  1190.wav\n",
            "exporting  1191.wav\n",
            "exporting  1192.wav\n",
            "exporting  1193.wav\n",
            "exporting  1194.wav\n",
            "exporting  1195.wav\n",
            "exporting  1196.wav\n",
            "exporting  1197.wav\n",
            "exporting  1198.wav\n",
            "exporting  1199.wav\n",
            "exporting  1200.wav\n",
            "exporting  1201.wav\n",
            "exporting  1202.wav\n"
          ]
        }
      ]
    },
    {
      "cell_type": "markdown",
      "metadata": {
        "id": "stainless-stroke"
      },
      "source": [
        "### References\n",
        "\n",
        "#### pydub : https://pytube.io/en/latest/index.html\n",
        "#### Pydub : https://github.com/jiaaro/pydub\n",
        "#### ffmpeg : https://github.com/FFmpeg/FFmpeg"
      ],
      "id": "stainless-stroke"
    },
    {
      "cell_type": "markdown",
      "metadata": {
        "id": "1EyLTZeqcY4d"
      },
      "source": [
        "# 데이터 전처리"
      ],
      "id": "1EyLTZeqcY4d"
    },
    {
      "cell_type": "code",
      "metadata": {
        "colab": {
          "base_uri": "https://localhost:8080/"
        },
        "id": "hZJG6CsAQUw6",
        "outputId": "560edb29-8d9c-471b-d257-5425b03775a1"
      },
      "source": [
        "json_list = [ad1.get_info(),ad2.get_info(), ad3.get_info()]\n",
        "json_list"
      ],
      "id": "hZJG6CsAQUw6",
      "execution_count": null,
      "outputs": [
        {
          "output_type": "execute_result",
          "data": {
            "text/plain": [
              "[{'channel': 'Vito ASMR',\n",
              "  'comment': None,\n",
              "  'date': '2021-10:04 11:54:14',\n",
              "  'file_format': 'mp4',\n",
              "  'genre': '혼종',\n",
              "  'url': 'https://youtu.be/LZh4ioW31J8'},\n",
              " {'channel': 'ASMR Tingles',\n",
              "  'comment': None,\n",
              "  'date': '2021-10:04 12:08:35',\n",
              "  'file_format': 'mp4',\n",
              "  'genre': '혼종',\n",
              "  'url': 'https://youtu.be/WAKjzzAAYRo'},\n",
              " {'channel': 'water',\n",
              "  'comment': None,\n",
              "  'date': '2021-10:04 12:18:23',\n",
              "  'file_format': 'wav',\n",
              "  'genre': 'nature',\n",
              "  'url': ''}]"
            ]
          },
          "metadata": {},
          "execution_count": 42
        }
      ]
    },
    {
      "cell_type": "code",
      "metadata": {
        "colab": {
          "base_uri": "https://localhost:8080/",
          "height": 138
        },
        "id": "WvMPt8acQ2Gf",
        "outputId": "9ef98e0c-8215-4d6d-efdb-aeeecbda1a91"
      },
      "source": [
        "from pandas import json_normalize\n",
        "df = json_normalize(json_list)\n",
        "df"
      ],
      "id": "WvMPt8acQ2Gf",
      "execution_count": null,
      "outputs": [
        {
          "output_type": "execute_result",
          "data": {
            "text/html": [
              "<div>\n",
              "<style scoped>\n",
              "    .dataframe tbody tr th:only-of-type {\n",
              "        vertical-align: middle;\n",
              "    }\n",
              "\n",
              "    .dataframe tbody tr th {\n",
              "        vertical-align: top;\n",
              "    }\n",
              "\n",
              "    .dataframe thead th {\n",
              "        text-align: right;\n",
              "    }\n",
              "</style>\n",
              "<table border=\"1\" class=\"dataframe\">\n",
              "  <thead>\n",
              "    <tr style=\"text-align: right;\">\n",
              "      <th></th>\n",
              "      <th>url</th>\n",
              "      <th>genre</th>\n",
              "      <th>channel</th>\n",
              "      <th>file_format</th>\n",
              "      <th>date</th>\n",
              "      <th>comment</th>\n",
              "    </tr>\n",
              "  </thead>\n",
              "  <tbody>\n",
              "    <tr>\n",
              "      <th>0</th>\n",
              "      <td>https://youtu.be/LZh4ioW31J8</td>\n",
              "      <td>혼종</td>\n",
              "      <td>Vito ASMR</td>\n",
              "      <td>mp4</td>\n",
              "      <td>2021-10:04 11:54:14</td>\n",
              "      <td>None</td>\n",
              "    </tr>\n",
              "    <tr>\n",
              "      <th>1</th>\n",
              "      <td>https://youtu.be/WAKjzzAAYRo</td>\n",
              "      <td>혼종</td>\n",
              "      <td>ASMR Tingles</td>\n",
              "      <td>mp4</td>\n",
              "      <td>2021-10:04 12:08:35</td>\n",
              "      <td>None</td>\n",
              "    </tr>\n",
              "    <tr>\n",
              "      <th>2</th>\n",
              "      <td></td>\n",
              "      <td>nature</td>\n",
              "      <td>water</td>\n",
              "      <td>wav</td>\n",
              "      <td>2021-10:04 12:18:23</td>\n",
              "      <td>None</td>\n",
              "    </tr>\n",
              "  </tbody>\n",
              "</table>\n",
              "</div>"
            ],
            "text/plain": [
              "                            url   genre  ...                 date comment\n",
              "0  https://youtu.be/LZh4ioW31J8      혼종  ...  2021-10:04 11:54:14    None\n",
              "1  https://youtu.be/WAKjzzAAYRo      혼종  ...  2021-10:04 12:08:35    None\n",
              "2                                nature  ...  2021-10:04 12:18:23    None\n",
              "\n",
              "[3 rows x 6 columns]"
            ]
          },
          "metadata": {},
          "execution_count": 47
        }
      ]
    },
    {
      "cell_type": "markdown",
      "metadata": {
        "id": "s3pnP0tKRYE_"
      },
      "source": [
        "### 이게.. 정량적으로 데이터화 할 수 있는게 별로 없네요..\n",
        "1. 어차피 wav 파일로 변환하는데 file_format의 의미가 있을까?\n",
        "2. genre는 임의로 nature, mix, tap 등으로 나누면 될 듯\n",
        "3. 말소리가 있는것과 없는것에 대한 칼럼을 추가하면 좋을듯\n",
        "4. channel보다는 sound의 keyword나 간단 설명을 추가?\n",
        "\n",
        "\n",
        "### - 우선 VAE인코더로 생성까지 해보자. \n",
        "### - Classification을 해서 label을 생성해볼 수 있을까? \n"
      ],
      "id": "s3pnP0tKRYE_"
    },
    {
      "cell_type": "code",
      "metadata": {
        "colab": {
          "base_uri": "https://localhost:8080/"
        },
        "id": "Mnh6bdQPV2eY",
        "outputId": "182718ae-f63f-4e65-fac4-ef3b2480a6a8"
      },
      "source": [
        "len(df)"
      ],
      "id": "Mnh6bdQPV2eY",
      "execution_count": null,
      "outputs": [
        {
          "output_type": "execute_result",
          "data": {
            "text/plain": [
              "3"
            ]
          },
          "metadata": {},
          "execution_count": 55
        }
      ]
    },
    {
      "cell_type": "code",
      "metadata": {
        "colab": {
          "base_uri": "https://localhost:8080/"
        },
        "id": "uGapxGEfSyxe",
        "outputId": "4f5519c1-5d08-4128-8daf-4fd3410df2f7"
      },
      "source": [
        "import librosa\n",
        "import librosa.display\n",
        "audio_list=[]\n",
        "for i in range(len(df)):\n",
        "  y, sr = librosa.load( new_path + f'/asmr_{i+1}.wav', sr=16000, offset=0, duration = 60.0)\n",
        "  audio_list.append(y)\n",
        "audio_list"
      ],
      "id": "uGapxGEfSyxe",
      "execution_count": null,
      "outputs": [
        {
          "output_type": "execute_result",
          "data": {
            "text/plain": [
              "[array([-0.00716171, -0.0112877 , -0.009284  , ...,  0.00358287,\n",
              "         0.00443478,  0.00511143], dtype=float32),\n",
              " array([ 0.00032882, -0.00200478, -0.00096887, ..., -0.00618019,\n",
              "        -0.00546345, -0.00506695], dtype=float32),\n",
              " array([-0.00069432, -0.00353331, -0.00356009, ...,  0.01182193,\n",
              "         0.01240927,  0.01366778], dtype=float32)]"
            ]
          },
          "metadata": {},
          "execution_count": 73
        }
      ]
    },
    {
      "cell_type": "code",
      "metadata": {
        "colab": {
          "base_uri": "https://localhost:8080/"
        },
        "id": "3MZSPbhYYqTK",
        "outputId": "a446fb6a-5fe6-459c-a44e-d44f7059fcb9"
      },
      "source": [
        "sr"
      ],
      "id": "3MZSPbhYYqTK",
      "execution_count": null,
      "outputs": [
        {
          "output_type": "execute_result",
          "data": {
            "text/plain": [
              "16000"
            ]
          },
          "metadata": {},
          "execution_count": 65
        }
      ]
    },
    {
      "cell_type": "code",
      "metadata": {
        "colab": {
          "base_uri": "https://localhost:8080/"
        },
        "id": "tyeMomECVRSe",
        "outputId": "75f8ccb3-9b2a-4522-ce8a-16351b677138"
      },
      "source": [
        "import numpy as np\n",
        "audio_np = np.array(audio_list, np.float32)\n",
        "audio_np.shape"
      ],
      "id": "tyeMomECVRSe",
      "execution_count": null,
      "outputs": [
        {
          "output_type": "execute_result",
          "data": {
            "text/plain": [
              "(3, 960000)"
            ]
          },
          "metadata": {},
          "execution_count": 66
        }
      ]
    },
    {
      "cell_type": "markdown",
      "metadata": {
        "id": "JtifdoQuZBb5"
      },
      "source": [
        "## data length / sampling rate = 음원 재생시간!"
      ],
      "id": "JtifdoQuZBb5"
    },
    {
      "cell_type": "code",
      "metadata": {
        "colab": {
          "base_uri": "https://localhost:8080/",
          "height": 277
        },
        "id": "iJ0fg48KWSP6",
        "outputId": "178a92ef-e25f-4915-82af-33268f91799a"
      },
      "source": [
        "import matplotlib.pyplot as plt\n",
        "\n",
        "for i,sound in enumerate(audio_np):\n",
        "  plt.subplot(3,1,i+1)\n",
        "  plt.plot(sound)"
      ],
      "id": "iJ0fg48KWSP6",
      "execution_count": null,
      "outputs": [
        {
          "output_type": "display_data",
          "data": {
            "image/png": "[encoded data removed]",
            "text/plain": [
              "<Figure size 432x288 with 3 Axes>"
            ]
          },
          "metadata": {
            "needs_background": "light"
          }
        }
      ]
    },
    {
      "cell_type": "markdown",
      "metadata": {
        "id": "G2IX-Ww5Zg_B"
      },
      "source": [
        "Let's check mel spectrogram."
      ],
      "id": "G2IX-Ww5Zg_B"
    },
    {
      "cell_type": "code",
      "metadata": {
        "id": "NAIdWl_WZ4CX"
      },
      "source": [
        "audio_mfcc = [] #audio_mfcc 담긴 리스트\n",
        "for y in audio_list : \n",
        "  #mfcc() method 소환\n",
        "  ret = librosa.feature.mfcc(y=y, sr = sr)\n",
        "  audio_mfcc.append(ret)"
      ],
      "id": "NAIdWl_WZ4CX",
      "execution_count": null,
      "outputs": []
    },
    {
      "cell_type": "code",
      "metadata": {
        "colab": {
          "base_uri": "https://localhost:8080/"
        },
        "id": "QU_X3jGMZ9Rv",
        "outputId": "2cf17fe4-c8ec-4985-d07b-63991867cbe6"
      },
      "source": [
        "audio_mfcc[0].shape"
      ],
      "id": "QU_X3jGMZ9Rv",
      "execution_count": null,
      "outputs": [
        {
          "output_type": "execute_result",
          "data": {
            "text/plain": [
              "(20, 1876)"
            ]
          },
          "metadata": {},
          "execution_count": 70
        }
      ]
    },
    {
      "cell_type": "code",
      "metadata": {
        "colab": {
          "base_uri": "https://localhost:8080/",
          "height": 35
        },
        "id": "bkcws3H4bPFU",
        "outputId": "c73aec7c-c89f-4f01-d871-084e9036ee9d"
      },
      "source": [
        "df['genre'][1]"
      ],
      "id": "bkcws3H4bPFU",
      "execution_count": null,
      "outputs": [
        {
          "output_type": "execute_result",
          "data": {
            "application/vnd.google.colaboratory.intrinsic+json": {
              "type": "string"
            },
            "text/plain": [
              "'혼종'"
            ]
          },
          "metadata": {},
          "execution_count": 77
        }
      ]
    },
    {
      "cell_type": "code",
      "metadata": {
        "colab": {
          "base_uri": "https://localhost:8080/",
          "height": 997
        },
        "id": "OgYljq3eaBiQ",
        "outputId": "cbaa5151-791c-4472-f488-86e6119f11ba"
      },
      "source": [
        "for i in range(len(audio_mfcc)):\n",
        "  amp_db = librosa.amplitude_to_db(np.abs(audio_mfcc[i]), ref=np.max) #amplitude를 dB 단위로 변환\n",
        "  librosa.display.specshow(amp_db, sr=sr, x_axis='time', y_axis= 'cqt_note')\n",
        "  plt.colorbar(format='%+2.0f dB')\n",
        "  plt.title(df['genre'][i])\n",
        "  plt.tight_layout()\n",
        "  plt.show()"
      ],
      "id": "OgYljq3eaBiQ",
      "execution_count": null,
      "outputs": [
        {
          "output_type": "stream",
          "name": "stderr",
          "text": [
            "/usr/local/lib/python3.7/dist-packages/matplotlib/backends/backend_agg.py:214: RuntimeWarning: Glyph 54844 missing from current font.\n",
            "  font.set_text(s, 0.0, flags=flags)\n",
            "/usr/local/lib/python3.7/dist-packages/matplotlib/backends/backend_agg.py:214: RuntimeWarning: Glyph 51333 missing from current font.\n",
            "  font.set_text(s, 0.0, flags=flags)\n",
            "/usr/local/lib/python3.7/dist-packages/matplotlib/backends/backend_agg.py:183: RuntimeWarning: Glyph 54844 missing from current font.\n",
            "  font.set_text(s, 0, flags=flags)\n",
            "/usr/local/lib/python3.7/dist-packages/matplotlib/backends/backend_agg.py:183: RuntimeWarning: Glyph 51333 missing from current font.\n",
            "  font.set_text(s, 0, flags=flags)\n"
          ]
        },
        {
          "output_type": "display_data",
          "data": {
            "image/png": "[encoded data removed]",
            "text/plain": [
              "<Figure size 432x288 with 2 Axes>"
            ]
          },
          "metadata": {
            "needs_background": "light"
          }
        },
        {
          "output_type": "display_data",
          "data": {
            "image/png": "[encoded data removed]",
            "text/plain": [
              "<Figure size 432x288 with 2 Axes>"
            ]
          },
          "metadata": {
            "needs_background": "light"
          }
        },
        {
          "output_type": "display_data",
          "data": {
            "image/png": "[encoded data removed]",
            "text/plain": [
              "<Figure size 432x288 with 2 Axes>"
            ]
          },
          "metadata": {
            "needs_background": "light"
          }
        }
      ]
    },
    {
      "cell_type": "markdown",
      "metadata": {
        "id": "5vE3H9zEa4Ka"
      },
      "source": [
        "channel은 영문명"
      ],
      "id": "5vE3H9zEa4Ka"
    },
    {
      "cell_type": "markdown",
      "metadata": {
        "id": "c63vTpcKbu8D"
      },
      "source": [
        "# 모델 학습"
      ],
      "id": "c63vTpcKbu8D"
    },
    {
      "cell_type": "code",
      "metadata": {
        "colab": {
          "base_uri": "https://localhost:8080/",
          "height": 1000
        },
        "id": "ycQaDosAJG1D",
        "outputId": "139b0b1e-93dd-40e9-c165-906c632c107b"
      },
      "source": [
        "!/opt/conda/bin/python3.7 -m pip install --upgrade pip\n",
        "!pip install tensorflow-addons\n",
        "!pip install --upgrade --ignore-installed tensorflow\n",
        "!pip install -q imageio\n",
        "!pip install -q git+https://github.com/tensorflow/docs"
      ],
      "id": "ycQaDosAJG1D",
      "execution_count": null,
      "outputs": [
        {
          "output_type": "stream",
          "name": "stdout",
          "text": [
            "/bin/bash: /opt/conda/bin/python3.7: No such file or directory\n",
            "Collecting tensorflow-addons\n",
            "  Downloading tensorflow_addons-0.14.0-cp37-cp37m-manylinux_2_12_x86_64.manylinux2010_x86_64.whl (1.1 MB)\n",
            "\u001b[K     |████████████████████████████████| 1.1 MB 5.1 MB/s \n",
            "\u001b[?25hRequirement already satisfied: typeguard>=2.7 in /usr/local/lib/python3.7/dist-packages (from tensorflow-addons) (2.7.1)\n",
            "Installing collected packages: tensorflow-addons\n",
            "Successfully installed tensorflow-addons-0.14.0\n",
            "Collecting tensorflow\n",
            "  Downloading tensorflow-2.6.0-cp37-cp37m-manylinux2010_x86_64.whl (458.3 MB)\n",
            "\u001b[K     |████████████████████████████████| 458.3 MB 10 kB/s \n",
            "\u001b[?25hCollecting opt-einsum~=3.3.0\n",
            "  Downloading opt_einsum-3.3.0-py3-none-any.whl (65 kB)\n",
            "\u001b[K     |████████████████████████████████| 65 kB 4.5 MB/s \n",
            "\u001b[?25hCollecting tensorflow-estimator~=2.6\n",
            "  Downloading tensorflow_estimator-2.6.0-py2.py3-none-any.whl (462 kB)\n",
            "\u001b[K     |████████████████████████████████| 462 kB 67.7 MB/s \n",
            "\u001b[?25hCollecting typing-extensions~=3.7.4\n",
            "  Downloading typing_extensions-3.7.4.3-py3-none-any.whl (22 kB)\n",
            "Collecting grpcio<2.0,>=1.37.0\n",
            "  Downloading grpcio-1.41.0-cp37-cp37m-manylinux_2_17_x86_64.manylinux2014_x86_64.whl (3.9 MB)\n",
            "\u001b[K     |████████████████████████████████| 3.9 MB 49.8 MB/s \n",
            "\u001b[?25hCollecting protobuf>=3.9.2\n",
            "  Downloading protobuf-3.18.1-cp37-cp37m-manylinux_2_17_x86_64.manylinux2014_x86_64.whl (1.1 MB)\n",
            "\u001b[K     |████████████████████████████████| 1.1 MB 68.8 MB/s \n",
            "\u001b[?25hCollecting keras~=2.6\n",
            "  Downloading keras-2.6.0-py2.py3-none-any.whl (1.3 MB)\n",
            "\u001b[K     |████████████████████████████████| 1.3 MB 67.6 MB/s \n",
            "\u001b[?25hCollecting termcolor~=1.1.0\n",
            "  Downloading termcolor-1.1.0.tar.gz (3.9 kB)\n",
            "Collecting six~=1.15.0\n",
            "  Downloading six-1.15.0-py2.py3-none-any.whl (10 kB)\n",
            "Collecting google-pasta~=0.2\n",
            "  Downloading google_pasta-0.2.0-py3-none-any.whl (57 kB)\n",
            "\u001b[K     |████████████████████████████████| 57 kB 6.4 MB/s \n",
            "\u001b[?25hCollecting tensorboard~=2.6\n",
            "  Downloading tensorboard-2.7.0-py3-none-any.whl (5.8 MB)\n",
            "\u001b[K     |████████████████████████████████| 5.8 MB 53.1 MB/s \n",
            "\u001b[?25hCollecting h5py~=3.1.0\n",
            "  Downloading h5py-3.1.0-cp37-cp37m-manylinux1_x86_64.whl (4.0 MB)\n",
            "\u001b[K     |████████████████████████████████| 4.0 MB 59.6 MB/s \n",
            "\u001b[?25hCollecting numpy~=1.19.2\n",
            "  Downloading numpy-1.19.5-cp37-cp37m-manylinux2010_x86_64.whl (14.8 MB)\n",
            "\u001b[K     |████████████████████████████████| 14.8 MB 55.6 MB/s \n",
            "\u001b[?25hCollecting astunparse~=1.6.3\n",
            "  Downloading astunparse-1.6.3-py2.py3-none-any.whl (12 kB)\n",
            "Collecting flatbuffers~=1.12.0\n",
            "  Downloading flatbuffers-1.12-py2.py3-none-any.whl (15 kB)\n",
            "Collecting keras-preprocessing~=1.1.2\n",
            "  Downloading Keras_Preprocessing-1.1.2-py2.py3-none-any.whl (42 kB)\n",
            "\u001b[K     |████████████████████████████████| 42 kB 1.6 MB/s \n",
            "\u001b[?25hCollecting wrapt~=1.12.1\n",
            "  Downloading wrapt-1.12.1.tar.gz (27 kB)\n",
            "Collecting absl-py~=0.10\n",
            "  Downloading absl_py-0.14.1-py3-none-any.whl (131 kB)\n",
            "\u001b[K     |████████████████████████████████| 131 kB 65.6 MB/s \n",
            "\u001b[?25hCollecting wheel~=0.35\n",
            "  Downloading wheel-0.37.0-py2.py3-none-any.whl (35 kB)\n",
            "Collecting gast==0.4.0\n",
            "  Downloading gast-0.4.0-py3-none-any.whl (9.8 kB)\n",
            "Collecting clang~=5.0\n",
            "  Downloading clang-5.0.tar.gz (30 kB)\n",
            "Collecting cached-property\n",
            "  Downloading cached_property-1.5.2-py2.py3-none-any.whl (7.6 kB)\n",
            "Collecting requests<3,>=2.21.0\n",
            "  Downloading requests-2.26.0-py2.py3-none-any.whl (62 kB)\n",
            "\u001b[K     |████████████████████████████████| 62 kB 1.0 MB/s \n",
            "\u001b[?25hCollecting markdown>=2.6.8\n",
            "  Downloading Markdown-3.3.4-py3-none-any.whl (97 kB)\n",
            "\u001b[K     |████████████████████████████████| 97 kB 8.4 MB/s \n",
            "\u001b[?25hCollecting werkzeug>=0.11.15\n",
            "  Downloading Werkzeug-2.0.2-py3-none-any.whl (288 kB)\n",
            "\u001b[K     |████████████████████████████████| 288 kB 72.2 MB/s \n",
            "\u001b[?25hCollecting tensorboard-data-server<0.7.0,>=0.6.0\n",
            "  Downloading tensorboard_data_server-0.6.1-py3-none-manylinux2010_x86_64.whl (4.9 MB)\n",
            "\u001b[K     |████████████████████████████████| 4.9 MB 55.4 MB/s \n",
            "\u001b[?25hCollecting google-auth-oauthlib<0.5,>=0.4.1\n",
            "  Downloading google_auth_oauthlib-0.4.6-py2.py3-none-any.whl (18 kB)\n",
            "Collecting setuptools>=41.0.0\n",
            "  Downloading setuptools-58.2.0-py3-none-any.whl (946 kB)\n",
            "\u001b[K     |████████████████████████████████| 946 kB 61.7 MB/s \n",
            "\u001b[?25hCollecting tensorboard-plugin-wit>=1.6.0\n",
            "  Downloading tensorboard_plugin_wit-1.8.0-py3-none-any.whl (781 kB)\n",
            "\u001b[K     |████████████████████████████████| 781 kB 77.1 MB/s \n",
            "\u001b[?25hCollecting google-auth<3,>=1.6.3\n",
            "  Downloading google_auth-2.3.0-py2.py3-none-any.whl (154 kB)\n",
            "\u001b[K     |████████████████████████████████| 154 kB 73.7 MB/s \n",
            "\u001b[?25hCollecting rsa<5,>=3.1.4\n",
            "  Downloading rsa-4.7.2-py3-none-any.whl (34 kB)\n",
            "Collecting cachetools<5.0,>=2.0.0\n",
            "  Downloading cachetools-4.2.4-py3-none-any.whl (10 kB)\n",
            "Collecting pyasn1-modules>=0.2.1\n",
            "  Downloading pyasn1_modules-0.2.8-py2.py3-none-any.whl (155 kB)\n",
            "\u001b[K     |████████████████████████████████| 155 kB 65.2 MB/s \n",
            "\u001b[?25hCollecting requests-oauthlib>=0.7.0\n",
            "  Downloading requests_oauthlib-1.3.0-py2.py3-none-any.whl (23 kB)\n",
            "Collecting importlib-metadata\n",
            "  Downloading importlib_metadata-4.8.1-py3-none-any.whl (17 kB)\n",
            "Collecting pyasn1<0.5.0,>=0.4.6\n",
            "  Downloading pyasn1-0.4.8-py2.py3-none-any.whl (77 kB)\n",
            "\u001b[K     |████████████████████████████████| 77 kB 7.3 MB/s \n",
            "\u001b[?25hCollecting idna<4,>=2.5\n",
            "  Downloading idna-3.3-py3-none-any.whl (61 kB)\n",
            "\u001b[K     |████████████████████████████████| 61 kB 11.2 MB/s \n",
            "\u001b[?25hCollecting urllib3<1.27,>=1.21.1\n",
            "  Downloading urllib3-1.26.7-py2.py3-none-any.whl (138 kB)\n",
            "\u001b[K     |████████████████████████████████| 138 kB 76.1 MB/s \n",
            "\u001b[?25hCollecting charset-normalizer~=2.0.0\n",
            "  Downloading charset_normalizer-2.0.7-py3-none-any.whl (38 kB)\n",
            "Collecting certifi>=2017.4.17\n",
            "  Downloading certifi-2021.10.8-py2.py3-none-any.whl (149 kB)\n",
            "\u001b[K     |████████████████████████████████| 149 kB 76.6 MB/s \n",
            "\u001b[?25hCollecting oauthlib>=3.0.0\n",
            "  Downloading oauthlib-3.1.1-py2.py3-none-any.whl (146 kB)\n",
            "\u001b[K     |████████████████████████████████| 146 kB 78.0 MB/s \n",
            "\u001b[?25hCollecting zipp>=0.5\n",
            "  Downloading zipp-3.6.0-py3-none-any.whl (5.3 kB)\n",
            "Building wheels for collected packages: clang, termcolor, wrapt\n",
            "  Building wheel for clang (setup.py) ... \u001b[?25l\u001b[?25hdone\n",
            "  Created wheel for clang: filename=clang-5.0-py3-none-any.whl size=30692 sha256=22f59bff9fdeb12ac1320af659468b4ab4f50b9f94b2c429049a01fd6a67eb1f\n",
            "  Stored in directory: /root/.cache/pip/wheels/98/91/04/971b4c587cf47ae952b108949b46926f426c02832d120a082a\n",
            "  Building wheel for termcolor (setup.py) ... \u001b[?25l\u001b[?25hdone\n",
            "  Created wheel for termcolor: filename=termcolor-1.1.0-py3-none-any.whl size=4847 sha256=265edbe519929596e661c36013b9faef8729dbdcdd74a97856943b64e13ee5f2\n",
            "  Stored in directory: /root/.cache/pip/wheels/3f/e3/ec/8a8336ff196023622fbcb36de0c5a5c218cbb24111d1d4c7f2\n",
            "  Building wheel for wrapt (setup.py) ... \u001b[?25l\u001b[?25hdone\n",
            "  Created wheel for wrapt: filename=wrapt-1.12.1-cp37-cp37m-linux_x86_64.whl size=68720 sha256=851269fe582356191ef94a299f29ab98df2d7baa73f179a6e908c1b973a061fe\n",
            "  Stored in directory: /root/.cache/pip/wheels/62/76/4c/aa25851149f3f6d9785f6c869387ad82b3fd37582fa8147ac6\n",
            "Successfully built clang termcolor wrapt\n",
            "Installing collected packages: urllib3, pyasn1, idna, charset-normalizer, certifi, zipp, typing-extensions, setuptools, rsa, requests, pyasn1-modules, oauthlib, cachetools, six, requests-oauthlib, importlib-metadata, google-auth, wheel, werkzeug, tensorboard-plugin-wit, tensorboard-data-server, protobuf, numpy, markdown, grpcio, google-auth-oauthlib, cached-property, absl-py, wrapt, termcolor, tensorflow-estimator, tensorboard, opt-einsum, keras-preprocessing, keras, h5py, google-pasta, gast, flatbuffers, clang, astunparse, tensorflow\n",
            "\u001b[31mERROR: pip's dependency resolver does not currently take into account all the packages that are installed. This behaviour is the source of the following dependency conflicts.\n",
            "tensorflow-metadata 1.2.0 requires absl-py<0.13,>=0.9, but you have absl-py 0.14.1 which is incompatible.\n",
            "google-colab 1.0.0 requires requests~=2.23.0, but you have requests 2.26.0 which is incompatible.\n",
            "google-api-core 1.26.3 requires google-auth<2.0dev,>=1.21.1, but you have google-auth 2.3.0 which is incompatible.\n",
            "flask 1.1.4 requires Werkzeug<2.0,>=0.15, but you have werkzeug 2.0.2 which is incompatible.\n",
            "datascience 0.10.6 requires folium==0.2.1, but you have folium 0.8.3 which is incompatible.\n",
            "albumentations 0.1.12 requires imgaug<0.2.7,>=0.2.5, but you have imgaug 0.2.9 which is incompatible.\u001b[0m\n",
            "Successfully installed absl-py-0.14.1 astunparse-1.6.3 cached-property-1.5.2 cachetools-4.2.4 certifi-2021.10.8 charset-normalizer-2.0.7 clang-5.0 flatbuffers-1.12 gast-0.4.0 google-auth-2.3.0 google-auth-oauthlib-0.4.6 google-pasta-0.2.0 grpcio-1.41.0 h5py-3.1.0 idna-3.3 importlib-metadata-4.8.1 keras-2.6.0 keras-preprocessing-1.1.2 markdown-3.3.4 numpy-1.19.5 oauthlib-3.1.1 opt-einsum-3.3.0 protobuf-3.18.1 pyasn1-0.4.8 pyasn1-modules-0.2.8 requests-2.26.0 requests-oauthlib-1.3.0 rsa-4.7.2 setuptools-58.2.0 six-1.15.0 tensorboard-2.7.0 tensorboard-data-server-0.6.1 tensorboard-plugin-wit-1.8.0 tensorflow-2.6.0 tensorflow-estimator-2.6.0 termcolor-1.1.0 typing-extensions-3.7.4.3 urllib3-1.26.7 werkzeug-2.0.2 wheel-0.37.0 wrapt-1.12.1 zipp-3.6.0\n"
          ]
        },
        {
          "output_type": "display_data",
          "data": {
            "application/vnd.colab-display-data+json": {
              "pip_warning": {
                "packages": [
                  "absl",
                  "astunparse",
                  "cached_property",
                  "cachetools",
                  "certifi",
                  "flatbuffers",
                  "gast",
                  "google",
                  "grpc",
                  "h5py",
                  "idna",
                  "keras_preprocessing",
                  "numpy",
                  "opt_einsum",
                  "pkg_resources",
                  "pyasn1",
                  "pyasn1_modules",
                  "requests",
                  "rsa",
                  "six",
                  "tensorboard",
                  "tensorflow",
                  "termcolor",
                  "typing_extensions",
                  "urllib3",
                  "wrapt"
                ]
              }
            }
          },
          "metadata": {}
        },
        {
          "output_type": "stream",
          "name": "stdout",
          "text": [
            "  Building wheel for tensorflow-docs (setup.py) ... \u001b[?25l\u001b[?25hdone\n"
          ]
        }
      ]
    },
    {
      "cell_type": "code",
      "metadata": {
        "id": "T2GW_iajIjp0"
      },
      "source": [
        "import librosa\n",
        "\n",
        "import numpy as np\n",
        "import pandas as pd\n",
        "import os\n",
        "\n",
        "import tensorflow as tf\n",
        "import tensorflow_addons as tfa\n",
        "from tensorflow.keras import layers \n",
        "\n",
        "import matplotlib.pyplot as plt\n",
        "from IPython import display\n",
        "from IPython.display import clear_output\n",
        "\n",
        "import glob\n",
        "import imageio\n",
        "import time\n",
        "import IPython.display as ipd\n",
        "\n",
        "AUTOTUNE = tf.data.experimental.AUTOTUNE"
      ],
      "id": "T2GW_iajIjp0",
      "execution_count": null,
      "outputs": []
    },
    {
      "cell_type": "code",
      "metadata": {
        "id": "59aM_3ryDpeO"
      },
      "source": [
        "seed=123\n",
        "tf.compat.v1.set_random_seed(seed)\n",
        "session_conf = tf.compat.v1.ConfigProto(intra_op_parallelism_threads=1, inter_op_parallelism_threads=1)\n",
        "sess = tf.compat.v1.Session(graph=tf.compat.v1.get_default_graph(), config=session_conf)\n",
        "tf.compat.v1.keras.backend.set_session(sess)"
      ],
      "id": "59aM_3ryDpeO",
      "execution_count": null,
      "outputs": []
    },
    {
      "cell_type": "code",
      "metadata": {
        "id": "GZVmtgECDphN"
      },
      "source": [
        "train_size = 60000\n",
        "BATCH_SIZE = 8\n",
        "test_size = 10000\n",
        "epochs = 20\n",
        "# set the dimensionality of the latent space to a plane for visualization later\n",
        "latent_dim = 2\n",
        "num_examples_to_generate = 2"
      ],
      "id": "GZVmtgECDphN",
      "execution_count": null,
      "outputs": []
    },
    {
      "cell_type": "code",
      "metadata": {
        "id": "M3SAA6daFXWq"
      },
      "source": [
        "temp_dir = BASE_DIR + 'temp'"
      ],
      "id": "M3SAA6daFXWq",
      "execution_count": null,
      "outputs": []
    },
    {
      "cell_type": "code",
      "metadata": {
        "colab": {
          "base_uri": "https://localhost:8080/"
        },
        "id": "RoDYx7bEFUnq",
        "outputId": "b0a5055e-9c59-4937-c392-fb88af293075"
      },
      "source": [
        "len(os.listdir(temp_dir))"
      ],
      "id": "RoDYx7bEFUnq",
      "execution_count": null,
      "outputs": [
        {
          "output_type": "execute_result",
          "data": {
            "text/plain": [
              "241"
            ]
          },
          "metadata": {},
          "execution_count": 136
        }
      ]
    },
    {
      "cell_type": "code",
      "metadata": {
        "id": "9gwtQByCH2ZM"
      },
      "source": [
        "# https://stackoverflow.com/questions/4813061/non-alphanumeric-list-order-from-os-listdir\n",
        "from natsort import natsorted\n",
        "natsorted(os.listdir(temp_dir))"
      ],
      "id": "9gwtQByCH2ZM",
      "execution_count": null,
      "outputs": []
    },
    {
      "cell_type": "code",
      "metadata": {
        "id": "5CxSQ6CvDpkJ"
      },
      "source": [
        "def DatasetLoader():\n",
        "    music_list = np.array(natsorted(os.listdir(temp_dir)))\n",
        "    train_music_1 =  list(music_list[:120]) \n",
        "    train_music_2 =  list(music_list[120:240]) \n",
        "    TrackSet_1 = [temp_dir + '/%s' % (x) for x in train_music_1]\n",
        "    TrackSet_2 = [temp_dir + '/%s' % (x) for x in train_music_2]\n",
        "\n",
        "    return TrackSet_1, TrackSet_2"
      ],
      "id": "5CxSQ6CvDpkJ",
      "execution_count": null,
      "outputs": []
    },
    {
      "cell_type": "code",
      "metadata": {
        "id": "w02C-scQDpl0"
      },
      "source": [
        "def load(file_):\n",
        "    data_, sampling_rate = librosa.load(file_,sr=22500, offset=0.0, duration=30)\n",
        "    data_ = data_.reshape(1,22500*30)\n",
        "    return data_\n",
        "map_data = lambda filename: tf.compat.v1.py_func(load, [filename], [tf.float32])"
      ],
      "id": "w02C-scQDpl0",
      "execution_count": null,
      "outputs": []
    },
    {
      "cell_type": "code",
      "metadata": {
        "id": "e1E7_Z0HDz15"
      },
      "source": [
        "TrackSet_1, TrackSet_2 = DatasetLoader()"
      ],
      "id": "e1E7_Z0HDz15",
      "execution_count": null,
      "outputs": []
    },
    {
      "cell_type": "code",
      "metadata": {
        "id": "XhCGn8TCvhBF"
      },
      "source": [
        ""
      ],
      "id": "XhCGn8TCvhBF",
      "execution_count": null,
      "outputs": []
    },
    {
      "cell_type": "code",
      "metadata": {
        "colab": {
          "base_uri": "https://localhost:8080/"
        },
        "id": "2UPJnZTrD0Sm",
        "outputId": "7ca6aef9-b90c-410e-d910-1a6f6d911bca"
      },
      "source": [
        "print(len(TrackSet_1), len(TrackSet_2))"
      ],
      "id": "2UPJnZTrD0Sm",
      "execution_count": null,
      "outputs": [
        {
          "output_type": "stream",
          "name": "stdout",
          "text": [
            "120 120\n"
          ]
        }
      ]
    },
    {
      "cell_type": "code",
      "metadata": {
        "colab": {
          "base_uri": "https://localhost:8080/"
        },
        "id": "3bSOLscJD0WD",
        "outputId": "1fae7488-7799-49a7-81d9-a7c0b9f702e9"
      },
      "source": [
        "train_dataset = (\n",
        "    tf.data.Dataset\n",
        "    .from_tensor_slices((TrackSet_1))\n",
        "    .map(map_data, num_parallel_calls=AUTOTUNE)\n",
        "    .shuffle(3)\n",
        "    .batch(BATCH_SIZE)\n",
        ")\n",
        "test_dataset = (\n",
        "    tf.data.Dataset\n",
        "    .from_tensor_slices((TrackSet_2))\n",
        "    .map(map_data, num_parallel_calls=AUTOTUNE)\n",
        "    .shuffle(3)\n",
        "    .batch(BATCH_SIZE)\n",
        ")"
      ],
      "id": "3bSOLscJD0WD",
      "execution_count": null,
      "outputs": [
        {
          "output_type": "stream",
          "name": "stdout",
          "text": [
            "WARNING:tensorflow:From /usr/local/lib/python3.7/dist-packages/tensorflow/python/autograph/impl/api.py:464: py_func (from tensorflow.python.ops.script_ops) is deprecated and will be removed in a future version.\n",
            "Instructions for updating:\n",
            "tf.py_func is deprecated in TF V2. Instead, there are two\n",
            "    options available in V2.\n",
            "    - tf.py_function takes a python function which manipulates tf eager\n",
            "    tensors instead of numpy arrays. It's easy to convert a tf eager tensor to\n",
            "    an ndarray (just call tensor.numpy()) but having access to eager tensors\n",
            "    means `tf.py_function`s can use accelerators such as GPUs as well as\n",
            "    being differentiable using a gradient tape.\n",
            "    - tf.numpy_function maintains the semantics of the deprecated tf.py_func\n",
            "    (it is not differentiable, and manipulates numpy arrays). It drops the\n",
            "    stateful argument making all functions stateful.\n",
            "    \n"
          ]
        }
      ]
    },
    {
      "cell_type": "markdown",
      "metadata": {
        "id": "EvMyQFkZJpSY"
      },
      "source": [
        "## Encoder network\n",
        "This defines the approximate posterior distribution *q(z|x)*, which takes as input an observation and outputs a set of parameters for specifying the conditional distribution of the latent representation *z*. In this example, we simply model the distribution as a diagonal Gaussian, and the network outputs the mean and log-variance parameters of a factorized Gaussian. We output log-variance instead of the variance directly for numerical stability.\n",
        "## Decoder network\n",
        "This defines the conditional distribution of the observation *p(x|z)*, which takes a latent sample *z* as input and outputs the parameters for a conditional distribution of the observation. We model the latent distribution prior *p(z)* as a unit Gaussian.\n",
        "## Reparameterization\n",
        "To generate a sample *z* for the decoder during training, we can sample from the latent distribution defined by the parameters outputted by the encoder, given an input observation *x*. However, this sampling operation creates a bottleneck because backpropagation cannot flow through a random node.\n",
        "\n",
        "To address this, we use a reparameterization trick. In our example, we approximate *z* using the decoder parameters and another parameter *ϵ* as follows:\n",
        "\n",
        "z = μ + σ.ϵ\n",
        "\n",
        "Source: [Tensorflow](https://www.tensorflow.org/tutorials/generative/cvae)\n"
      ],
      "id": "EvMyQFkZJpSY"
    },
    {
      "cell_type": "code",
      "metadata": {
        "id": "lqmpub2JD0YT",
        "colab": {
          "base_uri": "https://localhost:8080/",
          "height": 248
        },
        "outputId": "a534690e-c409-4315-e1a8-0e8f1ef9bafa"
      },
      "source": [
        "class Resnet1DBlock(tf.keras.Layer):\n",
        "    def __init__(self, kernel_size, filters,type='encode'):\n",
        "        super(Resnet1DBlock, self).__init__(name='')\n",
        "    \n",
        "        if type=='encode':\n",
        "            self.conv1a = layers.Conv1D(filters, kernel_size, 2,padding=\"same\")\n",
        "            self.conv1b = layers.Conv1D(filters, kernel_size, 1,padding=\"same\")\n",
        "            self.norm1a = tfa.layers.InstanceNormalization()\n",
        "            self.norm1b = tfa.layers.InstanceNormalization()\n",
        "        if type=='decode':\n",
        "            self.conv1a = layers.Conv1DTranspose(filters, kernel_size, 1,padding=\"same\")\n",
        "            self.conv1b = layers.Conv1DTranspose(filters, kernel_size, 1,padding=\"same\")\n",
        "            self.norm1a = tf.keras.layers.BatchNormalization()\n",
        "            self.norm1b = tf.keras.layers.BatchNormalization()\n",
        "        else:\n",
        "            return None\n",
        "\n",
        "    def call(self, input_tensor):\n",
        "        x = tf.nn.relu(input_tensor)\n",
        "        x = self.conv1a(x)\n",
        "        x = self.norm1a(x)\n",
        "        x = layers.LeakyReLU(0.4)(x)\n",
        "\n",
        "        x = self.conv1b(x)\n",
        "        x = self.norm1b(x)\n",
        "        x = layers.LeakyReLU(0.4)(x)\n",
        "\n",
        "        x += input_tensor\n",
        "        return tf.nn.relu(x)\n"
      ],
      "id": "lqmpub2JD0YT",
      "execution_count": null,
      "outputs": [
        {
          "output_type": "error",
          "ename": "NameError",
          "evalue": "ignored",
          "traceback": [
            "\u001b[0;31m---------------------------------------------------------------------------\u001b[0m",
            "\u001b[0;31mNameError\u001b[0m                                 Traceback (most recent call last)",
            "\u001b[0;32m<ipython-input-1-5c9dde095bf1>\u001b[0m in \u001b[0;36m<module>\u001b[0;34m()\u001b[0m\n\u001b[0;32m----> 1\u001b[0;31m \u001b[0;32mclass\u001b[0m \u001b[0mResnet1DBlock\u001b[0m\u001b[0;34m(\u001b[0m\u001b[0mtf\u001b[0m\u001b[0;34m.\u001b[0m\u001b[0mkeras\u001b[0m\u001b[0;34m.\u001b[0m\u001b[0mLayer\u001b[0m\u001b[0;34m)\u001b[0m\u001b[0;34m:\u001b[0m\u001b[0;34m\u001b[0m\u001b[0;34m\u001b[0m\u001b[0m\n\u001b[0m\u001b[1;32m      2\u001b[0m     \u001b[0;32mdef\u001b[0m \u001b[0m__init__\u001b[0m\u001b[0;34m(\u001b[0m\u001b[0mself\u001b[0m\u001b[0;34m,\u001b[0m \u001b[0mkernel_size\u001b[0m\u001b[0;34m,\u001b[0m \u001b[0mfilters\u001b[0m\u001b[0;34m,\u001b[0m\u001b[0mtype\u001b[0m\u001b[0;34m=\u001b[0m\u001b[0;34m'encode'\u001b[0m\u001b[0;34m)\u001b[0m\u001b[0;34m:\u001b[0m\u001b[0;34m\u001b[0m\u001b[0;34m\u001b[0m\u001b[0m\n\u001b[1;32m      3\u001b[0m         \u001b[0msuper\u001b[0m\u001b[0;34m(\u001b[0m\u001b[0mResnet1DBlock\u001b[0m\u001b[0;34m,\u001b[0m \u001b[0mself\u001b[0m\u001b[0;34m)\u001b[0m\u001b[0;34m.\u001b[0m\u001b[0m__init__\u001b[0m\u001b[0;34m(\u001b[0m\u001b[0mname\u001b[0m\u001b[0;34m=\u001b[0m\u001b[0;34m''\u001b[0m\u001b[0;34m)\u001b[0m\u001b[0;34m\u001b[0m\u001b[0;34m\u001b[0m\u001b[0m\n\u001b[1;32m      4\u001b[0m \u001b[0;34m\u001b[0m\u001b[0m\n\u001b[1;32m      5\u001b[0m         \u001b[0;32mif\u001b[0m \u001b[0mtype\u001b[0m\u001b[0;34m==\u001b[0m\u001b[0;34m'encode'\u001b[0m\u001b[0;34m:\u001b[0m\u001b[0;34m\u001b[0m\u001b[0;34m\u001b[0m\u001b[0m\n",
            "\u001b[0;31mNameError\u001b[0m: name 'tf' is not defined"
          ]
        }
      ]
    },
    {
      "cell_type": "code",
      "metadata": {
        "id": "u1-I90qlD0aM"
      },
      "source": [
        "class CVAE(tf.keras.Model):\n",
        "    \"\"\"Convolutional variational autoencoder.\"\"\"\n",
        "\n",
        "    def __init__(self, latent_dim):\n",
        "        super(CVAE, self).__init__()\n",
        "        self.latent_dim = latent_dim\n",
        "        self.encoder = tf.keras.Sequential(\n",
        "            [\n",
        "                tf.keras.layers.InputLayer(input_shape=(1,22500*30)),# 90001\n",
        "                layers.Conv1D(64,1,2),\n",
        "                Resnet1DBlock(64,1),\n",
        "                layers.Conv1D(128,1,2),\n",
        "                Resnet1DBlock(128,1),\n",
        "                layers.Conv1D(128,1,2),\n",
        "                Resnet1DBlock(128,1),\n",
        "                layers.Conv1D(256,1,2),\n",
        "                Resnet1DBlock(256,1),\n",
        "                # No activation\n",
        "                layers.Flatten(),\n",
        "                layers.Dense(latent_dim+latent_dim)\n",
        "\n",
        "            ]\n",
        "        )\n",
        "        self.decoder = tf.keras.Sequential(\n",
        "            [\n",
        "                tf.keras.layers.InputLayer(input_shape=(latent_dim,)),\n",
        "                layers.Reshape(target_shape=(1,latent_dim)),\n",
        "                Resnet1DBlock(512,1,'decode'),\n",
        "                layers.Conv1DTranspose(512,1,1),\n",
        "                Resnet1DBlock(256,1,'decode'),\n",
        "                layers.Conv1DTranspose(256,1,1),\n",
        "                Resnet1DBlock(128,1,'decode'),\n",
        "                layers.Conv1DTranspose(128,1,1),\n",
        "                Resnet1DBlock(64,1,'decode'),\n",
        "                layers.Conv1DTranspose(64,1,1),\n",
        "                # No activation\n",
        "                layers.Conv1DTranspose(22500*30,1,1), #90001\n",
        "            ]\n",
        "        )\n",
        "    @tf.function\n",
        "    def sample(self, eps=None):\n",
        "        if eps is None:\n",
        "            eps = tf.random.normal(shape=(200, self.latent_dim))\n",
        "        return self.decode(eps, apply_sigmoid=True)\n",
        "    @tf.function\n",
        "    def encode(self, x):\n",
        "        mean, logvar = tf.split(self.encoder(x), num_or_size_splits=2, axis=1)\n",
        "        return mean, logvar\n",
        "    @tf.function\n",
        "    def reparameterize(self, mean, logvar):\n",
        "        eps = tf.random.normal(shape=mean.shape)\n",
        "        return eps * tf.exp(logvar * .5) + mean\n",
        "    @tf.function\n",
        "    def decode(self, z, apply_sigmoid=False):\n",
        "        logits = self.decoder(z)\n",
        "        if apply_sigmoid:\n",
        "            probs = tf.sigmoid(logits)\n",
        "            return probs\n",
        "        return logits"
      ],
      "id": "u1-I90qlD0aM",
      "execution_count": null,
      "outputs": []
    },
    {
      "cell_type": "code",
      "metadata": {
        "id": "jNzbcCMBD0cO"
      },
      "source": [
        "optimizer = tf.keras.optimizers.Adam(0.0003,beta_1=0.9, beta_2=0.999,epsilon=1e-08)"
      ],
      "id": "jNzbcCMBD0cO",
      "execution_count": null,
      "outputs": []
    },
    {
      "cell_type": "code",
      "metadata": {
        "id": "znEB-MNID0ec"
      },
      "source": [
        "@tf.function\n",
        "def log_normal_pdf(sample, mean, logvar, raxis=1):\n",
        "    log2pi = tf.math.log(2. * np.pi)\n",
        "    return tf.reduce_sum(\n",
        "         -.5 * ((sample - mean) ** 2. * tf.exp(-logvar) + logvar + log2pi),\n",
        "          axis=raxis)\n",
        "    \n",
        "@tf.function\n",
        "def compute_loss(model, x):\n",
        "    mean, logvar = model.encode(x)\n",
        "    z = model.reparameterize(mean, logvar)\n",
        "    x_logit = model.decode(z)\n",
        "    cross_ent = tf.nn.sigmoid_cross_entropy_with_logits(logits=x_logit, labels=x)\n",
        "    logpx_z = -tf.reduce_sum(cross_ent, axis=[1,2])\n",
        "    logpz = log_normal_pdf(z, 0., 0.)\n",
        "    logqz_x = log_normal_pdf(z, mean, logvar)\n",
        "    return -tf.reduce_mean(logpx_z + logpz - logqz_x)"
      ],
      "id": "znEB-MNID0ec",
      "execution_count": null,
      "outputs": []
    },
    {
      "cell_type": "markdown",
      "metadata": {
        "id": "86FnyyQkJzCJ"
      },
      "source": [
        "## KL Loss\n",
        "\n",
        "The KL divergence tells us how well the probability distribution Q approximates the probability distribution P by calculating the cross-entropy minus the entropy. Intuitively, you can think of that as the statistical measure of how one distribution differs from another.\n",
        "In VAE, let X be the data we want to model, z be latent variable, P(X) be the probability distribution of data, P(z) be the probability distribution of the latent variable and P(X|z) be the distribution of generating data given latent variable.\n",
        "\n",
        "In the case of variational autoencoders, our objective is to infer P(z)\n",
        "from P(z|X). P(z|X) is the probability distribution that projects our data into latent space. But since we do not have the distribution P(z|X), we estimate it using its simpler estimation Q.\n",
        "\n",
        "Now while training our VAE, the encoder should try to learn the simpler distribution Q(z|X)\n",
        "such that it is as close as possible to the actual distribution P(z|X). This is where we use KL divergence as a measure of a difference between two probability distributions. The VAE objective function thus includes this KL divergence term that needs to be minimized.\n",
        "\n",
        "*DKL[Q(z|X)||P(z|X)] = E[ logQ(z|X) − logP(z|X) ]*\n",
        "\n",
        "## Reconstruction loss\n",
        "As the name suggest, it measures the reconstruction of original input x. This network can be trained by minimizing the reconstruction error, which measures the differences between our original input and the consequent reconstruction."
      ],
      "id": "86FnyyQkJzCJ"
    },
    {
      "cell_type": "code",
      "metadata": {
        "id": "DAnQ9qrlJx2w"
      },
      "source": [
        "@tf.function\n",
        "def train_step(model, x, optimizer):\n",
        "    \n",
        "    \"\"\"Executes one training step and returns the loss.\n",
        "\n",
        "       This function computes the loss and gradients, and uses the latter to\n",
        "       update the model's parameters.\n",
        "     \"\"\"\n",
        "    with tf.GradientTape() as tape:\n",
        "            mean, logvar = model.encode(x)\n",
        "            z = model.reparameterize(mean, logvar)\n",
        "            x_logit = model.decode(z)\n",
        "            cross_ent = tf.nn.sigmoid_cross_entropy_with_logits(logits=x_logit, labels=x)\n",
        "            logpx_z = -tf.reduce_sum(cross_ent, axis=[1,2])\n",
        "            logpz = log_normal_pdf(z, 0., 0.)\n",
        "            logqz_x = log_normal_pdf(z, mean, logvar)\n",
        "            loss_KL = -tf.reduce_mean(logpx_z + logpz - logqz_x)\n",
        "            reconstruction_loss = tf.reduce_mean(\n",
        "                     tf.keras.losses.binary_crossentropy(x, x_logit)\n",
        "                 )\n",
        "            total_loss = reconstruction_loss+ loss_KL\n",
        "    gradients = tape.gradient(total_loss, model.trainable_variables)\n",
        "    optimizer.apply_gradients(zip(gradients, model.trainable_variables))"
      ],
      "id": "DAnQ9qrlJx2w",
      "execution_count": null,
      "outputs": []
    },
    {
      "cell_type": "code",
      "metadata": {
        "id": "9Xh8VTsWJx7X"
      },
      "source": [
        "# keeping the random vector constant for generation (prediction) so\n",
        "# it will be easier to see the improvement.\n",
        "random_vector_for_generation = tf.random.normal(\n",
        "    shape=[num_examples_to_generate, latent_dim])\n",
        "model = CVAE(latent_dim)"
      ],
      "id": "9Xh8VTsWJx7X",
      "execution_count": null,
      "outputs": []
    },
    {
      "cell_type": "code",
      "metadata": {
        "id": "FsGTKrWPJx9u"
      },
      "source": [
        "import librosa.display\n",
        "save_music=[]\n",
        "def generate_and_save_images(model, epoch, test_sample):\n",
        "    mean, logvar = model.encode(test_sample)\n",
        "    z = model.reparameterize(mean, logvar)\n",
        "    predictions = model.sample(z)\n",
        "    fig = plt.figure(figsize=(18, 15))\n",
        "\n",
        "    for i in range(predictions.shape[0]):\n",
        "        plt.subplot(4, 4, i + 1)\n",
        "        wave = np.asarray(predictions[i], dtype=np.float32)\n",
        "        if epoch>14:\n",
        "            save_music.append(wave)\n",
        "        librosa.display.waveplot(wave[0], sr=22500)\n",
        "\n",
        "    # tight_layout minimizes the overlap between 2 sub-plots\n",
        "    plt.savefig('rain_{:04d}.png'.format(epoch))\n",
        "    plt.show()"
      ],
      "id": "FsGTKrWPJx9u",
      "execution_count": null,
      "outputs": []
    },
    {
      "cell_type": "code",
      "metadata": {
        "id": "oW3BrkU2JyAU"
      },
      "source": [
        "# Pick a sample of the test set for generating output images\n",
        "assert BATCH_SIZE >= num_examples_to_generate\n",
        "for test_batch in test_dataset.take(1):\n",
        "    test_sample = test_batch[0]"
      ],
      "id": "oW3BrkU2JyAU",
      "execution_count": null,
      "outputs": []
    },
    {
      "cell_type": "code",
      "metadata": {
        "id": "LdGTjt6mJyEh"
      },
      "source": [
        " # nan 없는지 확인\n",
        " for train_x in train_dataset:\n",
        "        train_x = np.asarray(train_x, dtype=np.float32)[0]\n",
        "        if not np.isfinite(train_x).all():\n",
        "          print(train_x)\n",
        "        else:\n",
        "          pass"
      ],
      "id": "LdGTjt6mJyEh",
      "execution_count": null,
      "outputs": []
    },
    {
      "cell_type": "code",
      "metadata": {
        "colab": {
          "base_uri": "https://localhost:8080/",
          "height": 241
        },
        "id": "A7lUqF7vJySu",
        "outputId": "deb2887b-f33b-4925-ea76-f68ee763accd"
      },
      "source": [
        "# 원본 파형\n",
        "import librosa.display\n",
        "plt.figure(figsize=(18,15))\n",
        "for i in range(4):\n",
        "    plt.subplot(4, 4, i + 1)\n",
        "    j = load(TrackSet_1[i])\n",
        "    librosa.display.waveplot(j[0], sr=22500)"
      ],
      "id": "A7lUqF7vJySu",
      "execution_count": null,
      "outputs": [
        {
          "output_type": "display_data",
          "data": {
            "image/png": "[encoded data removed]",
            "text/plain": [
              "<Figure size 1296x1080 with 4 Axes>"
            ]
          },
          "metadata": {
            "needs_background": "light"
          }
        }
      ]
    },
    {
      "cell_type": "code",
      "metadata": {
        "colab": {
          "base_uri": "https://localhost:8080/",
          "height": 487
        },
        "id": "Hn7-0VSEJyWx",
        "outputId": "a88614b2-02c9-4819-b23a-b43a761629d4"
      },
      "source": [
        "generate_and_save_images(model, 0, test_sample)\n",
        "\n",
        "for epoch in range(1, epochs + 1):\n",
        "    start_time = time.time()\n",
        "    for train_x in train_dataset:\n",
        "        train_x = np.asarray(train_x, dtype=np.float32)[0]\n",
        "        train_step(model, train_x, optimizer)\n",
        "    end_time = time.time()\n",
        "\n",
        "    loss = tf.keras.metrics.Mean()\n",
        "    for test_x in test_dataset:\n",
        "        test_x = np.asarray(test_x)[0]\n",
        "        loss(compute_loss(model, test_x))\n",
        "    display.clear_output(wait=False)\n",
        "    elbo = -loss.result()\n",
        "    ##추가##\n",
        "    print(elbo)\n",
        "    ##추가##\n",
        "    print('Epoch: {}, Test set ELBO: {}, time elapse for current epoch: {}'.format(epoch, elbo, end_time - start_time))\n",
        "    generate_and_save_images(model, epoch, test_sample)"
      ],
      "id": "Hn7-0VSEJyWx",
      "execution_count": null,
      "outputs": [
        {
          "output_type": "stream",
          "name": "stdout",
          "text": [
            "tf.Tensor(-293875.97, shape=(), dtype=float32)\n",
            "Epoch: 20, Test set ELBO: -293875.96875, time elapse for current epoch: 108.79148387908936\n"
          ]
        },
        {
          "output_type": "display_data",
          "data": {
            "image/png": "[encoded data removed]",
            "text/plain": [
              "<Figure size 1296x1080 with 8 Axes>"
            ]
          },
          "metadata": {
            "needs_background": "light"
          }
        }
      ]
    },
    {
      "cell_type": "code",
      "metadata": {
        "id": "nFY8x4zYK9Mj"
      },
      "source": [
        "r1=save_music[13][0]\n",
        "r2=save_music[19][0]\n",
        "r3=save_music[14][0]\n",
        "r4=save_music[15][0]\n",
        "r5=save_music[18][0]\n",
        "r6=save_music[17][0]"
      ],
      "id": "nFY8x4zYK9Mj",
      "execution_count": null,
      "outputs": []
    },
    {
      "cell_type": "code",
      "metadata": {
        "id": "JRY1dEO1JyZH"
      },
      "source": [
        "# 생성한 샘플파일 저장\n",
        "sample_path = os.path.join(BASE_DIR, 'sample')\n",
        "#os.mkdir(sample_path)"
      ],
      "id": "JRY1dEO1JyZH",
      "execution_count": null,
      "outputs": []
    },
    {
      "cell_type": "code",
      "metadata": {
        "id": "uqLzSmG9Jyc0"
      },
      "source": [
        "import soundfile as sf\n",
        "idx = 0\n",
        "for r in [r1,r2,r3,r4,r5,r6]:\n",
        "  sf.write('{}/fire_{}_22500_202_20.wav'.format(sample_path, idx), r, 22500) # sr, #data, epoch\n",
        "  idx = idx + 1"
      ],
      "id": "uqLzSmG9Jyc0",
      "execution_count": null,
      "outputs": []
    },
    {
      "cell_type": "code",
      "metadata": {
        "id": "NoH3KC5JcfN7"
      },
      "source": [
        "tf.keras.backend.clear_session()\n",
        "tf.compat.v1.reset_default_graph()\n",
        "tf.compat.v1.set_random_seed(seed)\n",
        "session_conf = tf.compat.v1.ConfigProto(intra_op_parallelism_threads=1, inter_op_parallelism_threads=1)\n",
        "sess = tf.compat.v1.Session(graph=tf.compat.v1.get_default_graph(), config=session_conf)\n",
        "tf.compat.v1.keras.backend.set_session(sess)"
      ],
      "id": "NoH3KC5JcfN7",
      "execution_count": null,
      "outputs": []
    },
    {
      "cell_type": "code",
      "metadata": {
        "id": "2Ak-XHz_fEJW"
      },
      "source": [
        ""
      ],
      "id": "2Ak-XHz_fEJW",
      "execution_count": null,
      "outputs": []
    }
  ]
}